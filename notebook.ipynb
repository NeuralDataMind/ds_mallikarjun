{
 "cells": [
  {
   "cell_type": "markdown",
   "id": "5241bb87",
   "metadata": {},
   "source": [
    "Importing libaries"
   ]
  },
  {
   "cell_type": "code",
   "execution_count": 2,
   "id": "0a0895c9",
   "metadata": {},
   "outputs": [],
   "source": [
    "import numpy as np\n",
    "import pandas as pd\n",
    "import matplotlib.pyplot as plt\n",
    "import seaborn as sns"
   ]
  },
  {
   "cell_type": "markdown",
   "id": "3b38f708",
   "metadata": {},
   "source": [
    "Importing datasets"
   ]
  },
  {
   "cell_type": "code",
   "execution_count": 3,
   "id": "a050e82d",
   "metadata": {},
   "outputs": [],
   "source": [
    "# paths of the dataset\n",
    "\n",
    "hist_data_path = 'csv_files/historical_data.csv'\n",
    "fear_greed_data_path = 'csv_files/fear_greed_index.csv'"
   ]
  },
  {
   "cell_type": "code",
   "execution_count": 4,
   "id": "86164c4e",
   "metadata": {},
   "outputs": [],
   "source": [
    "# loading the datasets\n",
    "\n",
    "hist_df = pd.read_csv(hist_data_path)       # historical data frame\n",
    "FG_df = pd.read_csv(fear_greed_data_path)   # Fear and Greed data frame"
   ]
  },
  {
   "cell_type": "markdown",
   "id": "b7194c37",
   "metadata": {},
   "source": [
    "Information of the datasets"
   ]
  },
  {
   "cell_type": "code",
   "execution_count": 5,
   "id": "159ab971",
   "metadata": {},
   "outputs": [
    {
     "name": "stdout",
     "output_type": "stream",
     "text": [
      "<class 'pandas.core.frame.DataFrame'>\n",
      "RangeIndex: 2644 entries, 0 to 2643\n",
      "Data columns (total 4 columns):\n",
      " #   Column          Non-Null Count  Dtype \n",
      "---  ------          --------------  ----- \n",
      " 0   timestamp       2644 non-null   int64 \n",
      " 1   value           2644 non-null   int64 \n",
      " 2   classification  2644 non-null   object\n",
      " 3   date            2644 non-null   object\n",
      "dtypes: int64(2), object(2)\n",
      "memory usage: 82.8+ KB\n"
     ]
    }
   ],
   "source": [
    "# Fear_Greed index\n",
    "\n",
    "FG_df.info()"
   ]
  },
  {
   "cell_type": "code",
   "execution_count": 6,
   "id": "3b012995",
   "metadata": {},
   "outputs": [
    {
     "data": {
      "text/html": [
       "<div>\n",
       "<style scoped>\n",
       "    .dataframe tbody tr th:only-of-type {\n",
       "        vertical-align: middle;\n",
       "    }\n",
       "\n",
       "    .dataframe tbody tr th {\n",
       "        vertical-align: top;\n",
       "    }\n",
       "\n",
       "    .dataframe thead th {\n",
       "        text-align: right;\n",
       "    }\n",
       "</style>\n",
       "<table border=\"1\" class=\"dataframe\">\n",
       "  <thead>\n",
       "    <tr style=\"text-align: right;\">\n",
       "      <th></th>\n",
       "      <th>timestamp</th>\n",
       "      <th>value</th>\n",
       "      <th>classification</th>\n",
       "      <th>date</th>\n",
       "    </tr>\n",
       "  </thead>\n",
       "  <tbody>\n",
       "    <tr>\n",
       "      <th>0</th>\n",
       "      <td>1517463000</td>\n",
       "      <td>30</td>\n",
       "      <td>Fear</td>\n",
       "      <td>2018-02-01</td>\n",
       "    </tr>\n",
       "    <tr>\n",
       "      <th>1</th>\n",
       "      <td>1517549400</td>\n",
       "      <td>15</td>\n",
       "      <td>Extreme Fear</td>\n",
       "      <td>2018-02-02</td>\n",
       "    </tr>\n",
       "    <tr>\n",
       "      <th>2</th>\n",
       "      <td>1517635800</td>\n",
       "      <td>40</td>\n",
       "      <td>Fear</td>\n",
       "      <td>2018-02-03</td>\n",
       "    </tr>\n",
       "    <tr>\n",
       "      <th>3</th>\n",
       "      <td>1517722200</td>\n",
       "      <td>24</td>\n",
       "      <td>Extreme Fear</td>\n",
       "      <td>2018-02-04</td>\n",
       "    </tr>\n",
       "    <tr>\n",
       "      <th>4</th>\n",
       "      <td>1517808600</td>\n",
       "      <td>11</td>\n",
       "      <td>Extreme Fear</td>\n",
       "      <td>2018-02-05</td>\n",
       "    </tr>\n",
       "  </tbody>\n",
       "</table>\n",
       "</div>"
      ],
      "text/plain": [
       "    timestamp  value classification        date\n",
       "0  1517463000     30           Fear  2018-02-01\n",
       "1  1517549400     15   Extreme Fear  2018-02-02\n",
       "2  1517635800     40           Fear  2018-02-03\n",
       "3  1517722200     24   Extreme Fear  2018-02-04\n",
       "4  1517808600     11   Extreme Fear  2018-02-05"
      ]
     },
     "execution_count": 6,
     "metadata": {},
     "output_type": "execute_result"
    }
   ],
   "source": [
    "FG_df.head(5)"
   ]
  },
  {
   "cell_type": "code",
   "execution_count": 7,
   "id": "2b0fbc5d",
   "metadata": {},
   "outputs": [
    {
     "name": "stdout",
     "output_type": "stream",
     "text": [
      "<class 'pandas.core.frame.DataFrame'>\n",
      "RangeIndex: 211224 entries, 0 to 211223\n",
      "Data columns (total 16 columns):\n",
      " #   Column            Non-Null Count   Dtype  \n",
      "---  ------            --------------   -----  \n",
      " 0   Account           211224 non-null  object \n",
      " 1   Coin              211224 non-null  object \n",
      " 2   Execution Price   211224 non-null  float64\n",
      " 3   Size Tokens       211224 non-null  float64\n",
      " 4   Size USD          211224 non-null  float64\n",
      " 5   Side              211224 non-null  object \n",
      " 6   Timestamp IST     211224 non-null  object \n",
      " 7   Start Position    211224 non-null  float64\n",
      " 8   Direction         211224 non-null  object \n",
      " 9   Closed PnL        211224 non-null  float64\n",
      " 10  Transaction Hash  211224 non-null  object \n",
      " 11  Order ID          211224 non-null  int64  \n",
      " 12  Crossed           211224 non-null  bool   \n",
      " 13  Fee               211224 non-null  float64\n",
      " 14  Trade ID          211224 non-null  float64\n",
      " 15  Timestamp         211224 non-null  float64\n",
      "dtypes: bool(1), float64(8), int64(1), object(6)\n",
      "memory usage: 24.4+ MB\n"
     ]
    }
   ],
   "source": [
    "# Historical data \n",
    "\n",
    "hist_df.info()"
   ]
  },
  {
   "cell_type": "code",
   "execution_count": 8,
   "id": "8cb836e0",
   "metadata": {},
   "outputs": [
    {
     "data": {
      "text/html": [
       "<div>\n",
       "<style scoped>\n",
       "    .dataframe tbody tr th:only-of-type {\n",
       "        vertical-align: middle;\n",
       "    }\n",
       "\n",
       "    .dataframe tbody tr th {\n",
       "        vertical-align: top;\n",
       "    }\n",
       "\n",
       "    .dataframe thead th {\n",
       "        text-align: right;\n",
       "    }\n",
       "</style>\n",
       "<table border=\"1\" class=\"dataframe\">\n",
       "  <thead>\n",
       "    <tr style=\"text-align: right;\">\n",
       "      <th></th>\n",
       "      <th>Account</th>\n",
       "      <th>Coin</th>\n",
       "      <th>Execution Price</th>\n",
       "      <th>Size Tokens</th>\n",
       "      <th>Size USD</th>\n",
       "      <th>Side</th>\n",
       "      <th>Timestamp IST</th>\n",
       "      <th>Start Position</th>\n",
       "      <th>Direction</th>\n",
       "      <th>Closed PnL</th>\n",
       "      <th>Transaction Hash</th>\n",
       "      <th>Order ID</th>\n",
       "      <th>Crossed</th>\n",
       "      <th>Fee</th>\n",
       "      <th>Trade ID</th>\n",
       "      <th>Timestamp</th>\n",
       "    </tr>\n",
       "  </thead>\n",
       "  <tbody>\n",
       "    <tr>\n",
       "      <th>0</th>\n",
       "      <td>0xae5eacaf9c6b9111fd53034a602c192a04e082ed</td>\n",
       "      <td>@107</td>\n",
       "      <td>7.9769</td>\n",
       "      <td>986.87</td>\n",
       "      <td>7872.16</td>\n",
       "      <td>BUY</td>\n",
       "      <td>02-12-2024 22:50</td>\n",
       "      <td>0.000000</td>\n",
       "      <td>Buy</td>\n",
       "      <td>0.0</td>\n",
       "      <td>0xec09451986a1874e3a980418412fcd0201f500c95bac...</td>\n",
       "      <td>52017706630</td>\n",
       "      <td>True</td>\n",
       "      <td>0.345404</td>\n",
       "      <td>8.950000e+14</td>\n",
       "      <td>1.730000e+12</td>\n",
       "    </tr>\n",
       "    <tr>\n",
       "      <th>1</th>\n",
       "      <td>0xae5eacaf9c6b9111fd53034a602c192a04e082ed</td>\n",
       "      <td>@107</td>\n",
       "      <td>7.9800</td>\n",
       "      <td>16.00</td>\n",
       "      <td>127.68</td>\n",
       "      <td>BUY</td>\n",
       "      <td>02-12-2024 22:50</td>\n",
       "      <td>986.524596</td>\n",
       "      <td>Buy</td>\n",
       "      <td>0.0</td>\n",
       "      <td>0xec09451986a1874e3a980418412fcd0201f500c95bac...</td>\n",
       "      <td>52017706630</td>\n",
       "      <td>True</td>\n",
       "      <td>0.005600</td>\n",
       "      <td>4.430000e+14</td>\n",
       "      <td>1.730000e+12</td>\n",
       "    </tr>\n",
       "    <tr>\n",
       "      <th>2</th>\n",
       "      <td>0xae5eacaf9c6b9111fd53034a602c192a04e082ed</td>\n",
       "      <td>@107</td>\n",
       "      <td>7.9855</td>\n",
       "      <td>144.09</td>\n",
       "      <td>1150.63</td>\n",
       "      <td>BUY</td>\n",
       "      <td>02-12-2024 22:50</td>\n",
       "      <td>1002.518996</td>\n",
       "      <td>Buy</td>\n",
       "      <td>0.0</td>\n",
       "      <td>0xec09451986a1874e3a980418412fcd0201f500c95bac...</td>\n",
       "      <td>52017706630</td>\n",
       "      <td>True</td>\n",
       "      <td>0.050431</td>\n",
       "      <td>6.600000e+14</td>\n",
       "      <td>1.730000e+12</td>\n",
       "    </tr>\n",
       "    <tr>\n",
       "      <th>3</th>\n",
       "      <td>0xae5eacaf9c6b9111fd53034a602c192a04e082ed</td>\n",
       "      <td>@107</td>\n",
       "      <td>7.9874</td>\n",
       "      <td>142.98</td>\n",
       "      <td>1142.04</td>\n",
       "      <td>BUY</td>\n",
       "      <td>02-12-2024 22:50</td>\n",
       "      <td>1146.558564</td>\n",
       "      <td>Buy</td>\n",
       "      <td>0.0</td>\n",
       "      <td>0xec09451986a1874e3a980418412fcd0201f500c95bac...</td>\n",
       "      <td>52017706630</td>\n",
       "      <td>True</td>\n",
       "      <td>0.050043</td>\n",
       "      <td>1.080000e+15</td>\n",
       "      <td>1.730000e+12</td>\n",
       "    </tr>\n",
       "    <tr>\n",
       "      <th>4</th>\n",
       "      <td>0xae5eacaf9c6b9111fd53034a602c192a04e082ed</td>\n",
       "      <td>@107</td>\n",
       "      <td>7.9894</td>\n",
       "      <td>8.73</td>\n",
       "      <td>69.75</td>\n",
       "      <td>BUY</td>\n",
       "      <td>02-12-2024 22:50</td>\n",
       "      <td>1289.488521</td>\n",
       "      <td>Buy</td>\n",
       "      <td>0.0</td>\n",
       "      <td>0xec09451986a1874e3a980418412fcd0201f500c95bac...</td>\n",
       "      <td>52017706630</td>\n",
       "      <td>True</td>\n",
       "      <td>0.003055</td>\n",
       "      <td>1.050000e+15</td>\n",
       "      <td>1.730000e+12</td>\n",
       "    </tr>\n",
       "  </tbody>\n",
       "</table>\n",
       "</div>"
      ],
      "text/plain": [
       "                                      Account  Coin  Execution Price  \\\n",
       "0  0xae5eacaf9c6b9111fd53034a602c192a04e082ed  @107           7.9769   \n",
       "1  0xae5eacaf9c6b9111fd53034a602c192a04e082ed  @107           7.9800   \n",
       "2  0xae5eacaf9c6b9111fd53034a602c192a04e082ed  @107           7.9855   \n",
       "3  0xae5eacaf9c6b9111fd53034a602c192a04e082ed  @107           7.9874   \n",
       "4  0xae5eacaf9c6b9111fd53034a602c192a04e082ed  @107           7.9894   \n",
       "\n",
       "   Size Tokens  Size USD Side     Timestamp IST  Start Position Direction  \\\n",
       "0       986.87   7872.16  BUY  02-12-2024 22:50        0.000000       Buy   \n",
       "1        16.00    127.68  BUY  02-12-2024 22:50      986.524596       Buy   \n",
       "2       144.09   1150.63  BUY  02-12-2024 22:50     1002.518996       Buy   \n",
       "3       142.98   1142.04  BUY  02-12-2024 22:50     1146.558564       Buy   \n",
       "4         8.73     69.75  BUY  02-12-2024 22:50     1289.488521       Buy   \n",
       "\n",
       "   Closed PnL                                   Transaction Hash     Order ID  \\\n",
       "0         0.0  0xec09451986a1874e3a980418412fcd0201f500c95bac...  52017706630   \n",
       "1         0.0  0xec09451986a1874e3a980418412fcd0201f500c95bac...  52017706630   \n",
       "2         0.0  0xec09451986a1874e3a980418412fcd0201f500c95bac...  52017706630   \n",
       "3         0.0  0xec09451986a1874e3a980418412fcd0201f500c95bac...  52017706630   \n",
       "4         0.0  0xec09451986a1874e3a980418412fcd0201f500c95bac...  52017706630   \n",
       "\n",
       "   Crossed       Fee      Trade ID     Timestamp  \n",
       "0     True  0.345404  8.950000e+14  1.730000e+12  \n",
       "1     True  0.005600  4.430000e+14  1.730000e+12  \n",
       "2     True  0.050431  6.600000e+14  1.730000e+12  \n",
       "3     True  0.050043  1.080000e+15  1.730000e+12  \n",
       "4     True  0.003055  1.050000e+15  1.730000e+12  "
      ]
     },
     "execution_count": 8,
     "metadata": {},
     "output_type": "execute_result"
    }
   ],
   "source": [
    "hist_df.head(5)"
   ]
  },
  {
   "cell_type": "markdown",
   "id": "b9867aa5",
   "metadata": {},
   "source": [
    "Cleaning the dataset"
   ]
  },
  {
   "cell_type": "code",
   "execution_count": 9,
   "id": "78c5e32d",
   "metadata": {},
   "outputs": [
    {
     "name": "stdout",
     "output_type": "stream",
     "text": [
      "Fear/Gread DF Cleaned:\n",
      "<class 'pandas.core.frame.DataFrame'>\n",
      "RangeIndex: 2644 entries, 0 to 2643\n",
      "Data columns (total 3 columns):\n",
      " #   Column          Non-Null Count  Dtype         \n",
      "---  ------          --------------  -----         \n",
      " 0   date            2644 non-null   datetime64[ns]\n",
      " 1   value           2644 non-null   int64         \n",
      " 2   classification  2644 non-null   object        \n",
      "dtypes: datetime64[ns](1), int64(1), object(1)\n",
      "memory usage: 62.1+ KB\n",
      "None\n"
     ]
    }
   ],
   "source": [
    "# coverting date col from str to datetime\n",
    "FG_df['date'] = pd.to_datetime(FG_df['date'])\n",
    "\n",
    "# we dont need timestamps form these\n",
    "FG_df = FG_df[['date', 'value', 'classification']]\n",
    "\n",
    "print(\"Fear/Gread DF Cleaned:\")\n",
    "print(FG_df.info())\n"
   ]
  },
  {
   "cell_type": "code",
   "execution_count": 10,
   "id": "ee1b1acc",
   "metadata": {},
   "outputs": [
    {
     "name": "stdout",
     "output_type": "stream",
     "text": [
      "Historical DF Cleaned: \n",
      "      Timestamp            datetime       date\n",
      "0  1.730000e+12 2024-10-27 03:33:20 2024-10-27\n",
      "1  1.730000e+12 2024-10-27 03:33:20 2024-10-27\n",
      "2  1.730000e+12 2024-10-27 03:33:20 2024-10-27\n",
      "3  1.730000e+12 2024-10-27 03:33:20 2024-10-27\n",
      "4  1.730000e+12 2024-10-27 03:33:20 2024-10-27\n"
     ]
    }
   ],
   "source": [
    "# Converting the 'Timestamp' col(float) to full datetime obj\n",
    "hist_df['datetime'] = pd.to_datetime(hist_df['Timestamp'], unit = 'ms')\n",
    "\n",
    "# Creating a 'date' col\n",
    "hist_df['date'] = pd.to_datetime(hist_df['datetime'].dt.date)\n",
    "\n",
    "print(\"Historical DF Cleaned: \")\n",
    "print(hist_df[['Timestamp', 'datetime', 'date']].head())"
   ]
  },
  {
   "cell_type": "markdown",
   "id": "e8ff84fd",
   "metadata": {},
   "source": [
    "Merge the datasets"
   ]
  },
  {
   "cell_type": "code",
   "execution_count": 11,
   "id": "d2d9a7a0",
   "metadata": {},
   "outputs": [
    {
     "name": "stdout",
     "output_type": "stream",
     "text": [
      "Mereged DataFrame Info\n",
      "\n"
     ]
    },
    {
     "name": "stdout",
     "output_type": "stream",
     "text": [
      "<class 'pandas.core.frame.DataFrame'>\n",
      "RangeIndex: 211224 entries, 0 to 211223\n",
      "Data columns (total 20 columns):\n",
      " #   Column            Non-Null Count   Dtype         \n",
      "---  ------            --------------   -----         \n",
      " 0   Account           211224 non-null  object        \n",
      " 1   Coin              211224 non-null  object        \n",
      " 2   Execution Price   211224 non-null  float64       \n",
      " 3   Size Tokens       211224 non-null  float64       \n",
      " 4   Size USD          211224 non-null  float64       \n",
      " 5   Side              211224 non-null  object        \n",
      " 6   Timestamp IST     211224 non-null  object        \n",
      " 7   Start Position    211224 non-null  float64       \n",
      " 8   Direction         211224 non-null  object        \n",
      " 9   Closed PnL        211224 non-null  float64       \n",
      " 10  Transaction Hash  211224 non-null  object        \n",
      " 11  Order ID          211224 non-null  int64         \n",
      " 12  Crossed           211224 non-null  bool          \n",
      " 13  Fee               211224 non-null  float64       \n",
      " 14  Trade ID          211224 non-null  float64       \n",
      " 15  Timestamp         211224 non-null  float64       \n",
      " 16  datetime          211224 non-null  datetime64[ns]\n",
      " 17  date              211224 non-null  datetime64[ns]\n",
      " 18  value             184263 non-null  float64       \n",
      " 19  classification    184263 non-null  object        \n",
      "dtypes: bool(1), datetime64[ns](2), float64(9), int64(1), object(7)\n",
      "memory usage: 30.8+ MB\n"
     ]
    }
   ],
   "source": [
    "# Mereg the two dataframes on the common 'date' col\n",
    "merged_df = pd.merge(hist_df, FG_df, on='date', how='left')\n",
    "\n",
    "print(\"Mereged DataFrame Info\\n\")\n",
    "merged_df.info()"
   ]
  },
  {
   "cell_type": "code",
   "execution_count": 12,
   "id": "f2b1a051",
   "metadata": {},
   "outputs": [
    {
     "name": "stdout",
     "output_type": "stream",
     "text": [
      "\n",
      "Total trades in merged_df: 211224\n",
      "Trades without sentiment data (nulls): 26961\n"
     ]
    }
   ],
   "source": [
    "# Checking for NaN and Null values\n",
    "\n",
    "null_sentiments = merged_df['classification'].isnull().sum()\n",
    "total_trades = len(merged_df)\n",
    "\n",
    "print(f\"\\nTotal trades in merged_df: {total_trades}\")\n",
    "print(f\"Trades without sentiment data (nulls): {null_sentiments}\")"
   ]
  },
  {
   "cell_type": "markdown",
   "id": "f6fb1579",
   "metadata": {},
   "source": [
    "- Observation: 26961 trades happened on dates that were not in FG_df.\n",
    "- Action: Drop this 26961 rows of data"
   ]
  },
  {
   "cell_type": "markdown",
   "id": "b7746c5b",
   "metadata": {},
   "source": [
    "Handle the Null Values"
   ]
  },
  {
   "cell_type": "code",
   "execution_count": 13,
   "id": "64a2f3b3",
   "metadata": {},
   "outputs": [
    {
     "name": "stdout",
     "output_type": "stream",
     "text": [
      "Shape befor dropping nulls: (211224, 20)\n",
      "Shape after dropping nulls: (184263, 20)\n"
     ]
    }
   ],
   "source": [
    "# Before shape\n",
    "print(f\"Shape befor dropping nulls: {merged_df.shape}\")\n",
    "\n",
    "# Drop NaN\n",
    "merged_df.dropna(subset=['classification'], inplace=True)\n",
    "\n",
    "# After Shape\n",
    "print(f\"Shape after dropping nulls: {merged_df.shape}\")\n"
   ]
  },
  {
   "cell_type": "code",
   "execution_count": 14,
   "id": "fc87c47a",
   "metadata": {},
   "outputs": [
    {
     "name": "stdout",
     "output_type": "stream",
     "text": [
      "Nulls in 'classification' after drop: 0\n"
     ]
    }
   ],
   "source": [
    "# Verifiy no more nulls in the col\n",
    "print(f\"Nulls in 'classification' after drop: {merged_df['classification'].isnull().sum()}\")"
   ]
  },
  {
   "cell_type": "markdown",
   "id": "9185e396",
   "metadata": {},
   "source": [
    "**EDA**"
   ]
  },
  {
   "cell_type": "code",
   "execution_count": 15,
   "id": "4249e219",
   "metadata": {},
   "outputs": [
    {
     "name": "stdout",
     "output_type": "stream",
     "text": [
      "Original unique sentiment values: ['Greed' 'Fear' 'Extreme Greed' 'Neutral']\n",
      "New unique sentiment values: ['Greed' 'Fear' 'Neutral']\n",
      "sentiment\n",
      "Fear       133871\n",
      "Greed       43251\n",
      "Neutral      7141\n",
      "Name: count, dtype: int64\n"
     ]
    }
   ],
   "source": [
    "# Unique sentiment categories\n",
    "print(f\"Original unique sentiment values: {merged_df['classification'].unique()}\")\n",
    "\n",
    "# Mapping \n",
    "sentiment_map = {\n",
    "    'Extreme Fear': 'Fear',\n",
    "    'Fear': 'Fear',\n",
    "    'Neutral': 'Neutral',\n",
    "    'Greed': 'Greed',\n",
    "    'Extreme Greed': 'Greed'\n",
    "}\n",
    "\n",
    "merged_df['sentiment'] = merged_df['classification'].map(sentiment_map)\n",
    "\n",
    "print(f\"New unique sentiment values: {merged_df['sentiment'].unique()}\")\n",
    "print(merged_df['sentiment'].value_counts())"
   ]
  },
  {
   "cell_type": "markdown",
   "id": "5faf1f19",
   "metadata": {},
   "source": [
    "Visualization: Trades per Sentiment"
   ]
  },
  {
   "cell_type": "code",
   "execution_count": 16,
   "id": "aebeefdf",
   "metadata": {},
   "outputs": [
    {
     "name": "stderr",
     "output_type": "stream",
     "text": [
      "C:\\Users\\Mallikarjun\\AppData\\Local\\Temp\\ipykernel_21768\\1650903603.py:4: FutureWarning: \n",
      "\n",
      "Passing `palette` without assigning `hue` is deprecated and will be removed in v0.14.0. Assign the `x` variable to `hue` and set `legend=False` for the same effect.\n",
      "\n",
      "  ax = sns.countplot(\n"
     ]
    },
    {
     "data": {
      "image/png": "[encoded data removed]",
      "text/plain": [
       "<Figure size 1000x600 with 1 Axes>"
      ]
     },
     "metadata": {},
     "output_type": "display_data"
    }
   ],
   "source": [
    "plt.figure(figsize = (10, 6))\n",
    "sns.set_style(\"whitegrid\")\n",
    "\n",
    "ax = sns.countplot(\n",
    "    data=merged_df,\n",
    "    x='sentiment',\n",
    "    order=['Fear', 'Neutral', 'Greed'],\n",
    "    palette={'Fear': 'red', 'Neutral': 'grey', 'Greed': 'green'} # Color\n",
    ")\n",
    "\n",
    "ax.set_title('Total Number of Trade per Market Sentiment', fontsize=16)\n",
    "ax.set_xlabel('Sentiment', fontsize=12)\n",
    "ax.set_ylabel('Count of Trades', fontsize=12)\n",
    "\n",
    "plt.savefig('outputs/trades_per_sentiment.png')"
   ]
  },
  {
   "cell_type": "markdown",
   "id": "b6365d79",
   "metadata": {},
   "source": [
    "Profitability Vs Sentiment"
   ]
  },
  {
   "cell_type": "code",
   "execution_count": 17,
   "id": "e2069df0",
   "metadata": {},
   "outputs": [
    {
     "name": "stdout",
     "output_type": "stream",
     "text": [
      "Profitability per Sentiment:\n",
      "  sentiment     total_pnl  average_pnl\n",
      "0      Fear  6.699925e+06    50.047622\n",
      "1     Greed  3.366582e+06    77.838247\n",
      "2   Neutral  1.587424e+05    22.229713\n"
     ]
    }
   ],
   "source": [
    "sentiment_pnl = merged_df.groupby('sentiment')['Closed PnL'].agg(\n",
    "    total_pnl = 'sum',\n",
    "    average_pnl = 'mean'\n",
    ").reset_index()\n",
    "\n",
    "print(\"Profitability per Sentiment:\")\n",
    "print(sentiment_pnl)"
   ]
  },
  {
   "cell_type": "code",
   "execution_count": 18,
   "id": "a10f14ac",
   "metadata": {},
   "outputs": [
    {
     "name": "stderr",
     "output_type": "stream",
     "text": [
      "C:\\Users\\Mallikarjun\\AppData\\Local\\Temp\\ipykernel_21768\\3048267303.py:5: FutureWarning: \n",
      "\n",
      "Passing `palette` without assigning `hue` is deprecated and will be removed in v0.14.0. Assign the `x` variable to `hue` and set `legend=False` for the same effect.\n",
      "\n",
      "  ax = sns.barplot(\n"
     ]
    },
    {
     "data": {
      "image/png": "[encoded data removed]",
      "text/plain": [
       "<Figure size 1000x600 with 1 Axes>"
      ]
     },
     "metadata": {},
     "output_type": "display_data"
    }
   ],
   "source": [
    "# Avg PnL per trade\n",
    "plt.figure(figsize=(10, 6))\n",
    "sns.set_style('whitegrid')\n",
    "\n",
    "ax = sns.barplot(\n",
    "    data=sentiment_pnl,\n",
    "    x='sentiment',\n",
    "    y = 'average_pnl',\n",
    "    order=['Fear', 'Neutral', 'Greed'],\n",
    "    palette={'Fear': 'red', 'Neutral': 'grey', 'Greed': 'green'}\n",
    ")\n",
    "\n",
    "ax.set_title('Average Profit & Loss (PnL) per Trade by Sentiment', fontsize=16)\n",
    "ax.set_xlabel(\"Sentiment\", fontsize=12)\n",
    "ax.set_ylabel('Average PnL (USD)', fontsize=12)\n",
    "ax.axhline(0, color='black', linewidth=0.8, linestyle='--')\n",
    "\n",
    "plt.savefig('outputs/avg_pnl_by_sentiment.png')\n",
    "plt.show()"
   ]
  },
  {
   "cell_type": "markdown",
   "id": "d6cbb4e4",
   "metadata": {},
   "source": [
    "Analyze Trading Behavior (Trade Size)"
   ]
  },
  {
   "cell_type": "code",
   "execution_count": 19,
   "id": "e9c15b70",
   "metadata": {},
   "outputs": [
    {
     "name": "stdout",
     "output_type": "stream",
     "text": [
      "\n",
      "Average Trade Size per Sentiment:\n",
      "  sentiment  average_trade_size\n",
      "0      Fear         5259.977837\n",
      "1     Greed         3581.661513\n",
      "2   Neutral         3058.848110\n"
     ]
    },
    {
     "name": "stderr",
     "output_type": "stream",
     "text": [
      "C:\\Users\\Mallikarjun\\AppData\\Local\\Temp\\ipykernel_21768\\1536539920.py:11: FutureWarning: \n",
      "\n",
      "Passing `palette` without assigning `hue` is deprecated and will be removed in v0.14.0. Assign the `x` variable to `hue` and set `legend=False` for the same effect.\n",
      "\n",
      "  ax = sns.barplot(\n"
     ]
    },
    {
     "data": {
      "image/png": "[encoded data removed]",
      "text/plain": [
       "<Figure size 1000x600 with 1 Axes>"
      ]
     },
     "metadata": {},
     "output_type": "display_data"
    }
   ],
   "source": [
    "sentiment_size = merged_df.groupby('sentiment')['Size USD'].agg(\n",
    "    average_trade_size = 'mean'\n",
    ").reset_index()\n",
    "\n",
    "print(\"\\nAverage Trade Size per Sentiment:\")\n",
    "print(sentiment_size)\n",
    "\n",
    "plt.figure(figsize=(10, 6))\n",
    "sns.set_style(\"whitegrid\")\n",
    "\n",
    "ax = sns.barplot(\n",
    "    data=sentiment_size,\n",
    "    x='sentiment',\n",
    "    y='average_trade_size',\n",
    "    order=['Fear', 'Neutral', 'Greed'],\n",
    "    palette={'Fear': 'red', 'Neutral': 'grey', 'Greed': 'green'}\n",
    ")\n",
    "\n",
    "ax.set_title('Average Trade Size (USD) by Sentiment', fontsize=16)\n",
    "ax.set_xlabel('Sentiment', fontsize=12)\n",
    "ax.set_ylabel('Average Size USD', fontsize=12)\n",
    "\n",
    "# Save the chart\n",
    "plt.savefig('outputs/average_trade_size_by_sentiment.png')\n",
    "plt.show()"
   ]
  },
  {
   "cell_type": "markdown",
   "id": "4e988f99",
   "metadata": {},
   "source": [
    "Analyze Trader Segments"
   ]
  },
  {
   "cell_type": "code",
   "execution_count": 20,
   "id": "c96abc08",
   "metadata": {},
   "outputs": [
    {
     "name": "stdout",
     "output_type": "stream",
     "text": [
      "trader_segment\n",
      "Middle 80%    139085\n",
      "Top 10%        39418\n",
      "Bottom 10%      5760\n",
      "Name: count, dtype: int64\n"
     ]
    }
   ],
   "source": [
    "# 1. Find the total PnL for each trader\n",
    "trader_pnl = merged_df.groupby('Account')['Closed PnL'].sum().sort_values(ascending=False)\n",
    "\n",
    "# 2. Get the list of Top 10% and Bottom 10% traders\n",
    "top_traders_count = int(len(trader_pnl) * 0.10)\n",
    "top_traders = trader_pnl.head(top_traders_count).index\n",
    "bottom_traders = trader_pnl.tail(top_traders_count).index\n",
    "\n",
    "# 3. Create a new column to segment traders\n",
    "def segment_trader(account):\n",
    "    if account in top_traders:\n",
    "        return 'Top 10%'\n",
    "    elif account in bottom_traders:\n",
    "        return 'Bottom 10%'\n",
    "    else:\n",
    "        return 'Middle 80%'\n",
    "\n",
    "merged_df['trader_segment'] = merged_df['Account'].apply(segment_trader)\n",
    "\n",
    "# 4. Check the segmentation\n",
    "print(merged_df['trader_segment'].value_counts())"
   ]
  },
  {
   "cell_type": "markdown",
   "id": "af770582",
   "metadata": {},
   "source": [
    "Analyze Trading"
   ]
  },
  {
   "cell_type": "code",
   "execution_count": 21,
   "id": "cd5471d9",
   "metadata": {},
   "outputs": [
    {
     "data": {
      "image/png": "[encoded data removed]",
      "text/plain": [
       "<Figure size 1200x700 with 1 Axes>"
      ]
     },
     "metadata": {},
     "output_type": "display_data"
    },
    {
     "name": "stderr",
     "output_type": "stream",
     "text": [
      "C:\\Users\\Mallikarjun\\AppData\\Local\\Temp\\ipykernel_21768\\3083640264.py:15: FutureWarning: \n",
      "\n",
      "The `ci` parameter is deprecated. Use `errorbar=None` for the same effect.\n",
      "\n",
      "  sns.barplot(\n"
     ]
    },
    {
     "data": {
      "image/png": "[encoded data removed]",
      "text/plain": [
       "<Figure size 1200x700 with 1 Axes>"
      ]
     },
     "metadata": {},
     "output_type": "display_data"
    }
   ],
   "source": [
    "# 1. Plot trade side by sentiment\n",
    "plt.figure(figsize=(12, 7))\n",
    "sns.countplot(\n",
    "    data=merged_df,\n",
    "    x='sentiment',\n",
    "    hue='Side', # Check if 'Buy' or 'Sell' is more common\n",
    "    order=['Fear', 'Neutral', 'Greed']\n",
    ")\n",
    "plt.title('Trade Side (Buy/Sell) by Sentiment')\n",
    "plt.savefig('outputs/side_by_sentiment.png')\n",
    "plt.show()\n",
    "\n",
    "# 2. Plot most profitable side by sentiment\n",
    "plt.figure(figsize=(12, 7))\n",
    "sns.barplot(\n",
    "    data=merged_df,\n",
    "    x='sentiment',\n",
    "    y='Closed PnL',\n",
    "    hue='Side',\n",
    "    estimator=np.mean,\n",
    "    ci=None\n",
    ")\n",
    "plt.title('Average PnL by Sentiment and Trade Side')\n",
    "plt.savefig('outputs/pnl_by_side_and_sentiment.png')\n",
    "plt.show()"
   ]
  },
  {
   "cell_type": "code",
   "execution_count": 22,
   "id": "f03b7fd6",
   "metadata": {},
   "outputs": [
    {
     "name": "stderr",
     "output_type": "stream",
     "text": [
      "C:\\Users\\Mallikarjun\\AppData\\Local\\Temp\\ipykernel_21768\\705671800.py:5: FutureWarning: \n",
      "\n",
      "The `ci` parameter is deprecated. Use `errorbar=None` for the same effect.\n",
      "\n",
      "  ax = sns.barplot(\n"
     ]
    },
    {
     "data": {
      "image/png": "[encoded data removed]",
      "text/plain": [
       "<Figure size 1200x700 with 1 Axes>"
      ]
     },
     "metadata": {},
     "output_type": "display_data"
    }
   ],
   "source": [
    "# This chart will show who is winning, when, and how.\n",
    "plt.figure(figsize=(12, 7))\n",
    "sns.set_style(\"whitegrid\")\n",
    "\n",
    "ax = sns.barplot(\n",
    "    data=merged_df,\n",
    "    x='sentiment',\n",
    "    y='Closed PnL',\n",
    "    hue='trader_segment',  # Segment by trader group\n",
    "    order=['Fear', 'Neutral', 'Greed'],\n",
    "    estimator=np.mean,    # Calculate the average PnL\n",
    "    ci=None               # Hide confidence intervals\n",
    ")\n",
    "\n",
    "ax.set_title('Average PnL by Sentiment AND Trader Segment', fontsize=16)\n",
    "ax.set_xlabel('Sentiment', fontsize=12)\n",
    "ax.set_ylabel('Average Closed PnL (USD)', fontsize=12)\n",
    "ax.axhline(0, color='black', linewidth=0.8, linestyle='--') # Add a zero line\n",
    "\n",
    "plt.legend(title='Trader Segment')\n",
    "\n",
    "# Save the final chart\n",
    "plt.savefig('outputs/pnl_by_sentiment_and_segment.png')\n",
    "plt.show()"
   ]
  },
  {
   "cell_type": "markdown",
   "id": "7f7e1688",
   "metadata": {},
   "source": []
  }
 ],
 "metadata": {
  "kernelspec": {
   "display_name": "Python 3",
   "language": "python",
   "name": "python3"
  },
  "language_info": {
   "codemirror_mode": {
    "name": "ipython",
    "version": 3
   },
   "file_extension": ".py",
   "mimetype": "text/x-python",
   "name": "python",
   "nbconvert_exporter": "python",
   "pygments_lexer": "ipython3",
   "version": "3.12.9"
  }
 },
 "nbformat": 4,
 "nbformat_minor": 5
}
