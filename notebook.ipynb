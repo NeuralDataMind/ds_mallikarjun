{
  "cells": [
    {
      "cell_type": "markdown",
      "metadata": {
        "id": "view-in-github",
        "colab_type": "text"
      },
      "source": [
        "<a href=\"https://colab.research.google.com/github/NeuralDataMind/ds_mallikarjun/blob/main/notebook.ipynb\" target=\"_parent\"><img src=\"https://colab.research.google.com/assets/colab-badge.svg\" alt=\"Open In Colab\"/></a>"
      ]
    },
    {
      "cell_type": "markdown",
      "id": "5241bb87",
      "metadata": {
        "id": "5241bb87"
      },
      "source": [
        "Importing libaries"
      ]
    },
    {
      "cell_type": "code",
      "execution_count": 17,
      "id": "0a0895c9",
      "metadata": {
        "id": "0a0895c9"
      },
      "outputs": [],
      "source": [
        "import numpy as np\n",
        "import pandas as pd\n",
        "import matplotlib.pyplot as plt\n",
        "import seaborn as sns"
      ]
    },
    {
      "cell_type": "markdown",
      "id": "3b38f708",
      "metadata": {
        "id": "3b38f708"
      },
      "source": [
        "Importing datasets"
      ]
    },
    {
      "cell_type": "code",
      "execution_count": 18,
      "id": "a050e82d",
      "metadata": {
        "id": "a050e82d"
      },
      "outputs": [],
      "source": [
        "# paths of the dataset\n",
        "\n",
        "hist_data_path = '/content/historical_data.csv'\n",
        "fear_greed_data_path = '/content/fear_greed_index.csv'"
      ]
    },
    {
      "cell_type": "code",
      "execution_count": 19,
      "id": "86164c4e",
      "metadata": {
        "colab": {
          "base_uri": "https://localhost:8080/"
        },
        "id": "86164c4e",
        "outputId": "b0e9651b-39a7-4774-ad92-ce926c6b0c61"
      },
      "outputs": [
        {
          "output_type": "stream",
          "name": "stderr",
          "text": [
            "/tmp/ipython-input-1514934020.py:3: DtypeWarning: Columns (12) have mixed types. Specify dtype option on import or set low_memory=False.\n",
            "  hist_df = pd.read_csv(hist_data_path)       # historical data frame\n"
          ]
        }
      ],
      "source": [
        "# loading the datasets\n",
        "\n",
        "hist_df = pd.read_csv(hist_data_path)       # historical data frame\n",
        "FG_df = pd.read_csv(fear_greed_data_path)   # Fear and Greed data frame"
      ]
    },
    {
      "cell_type": "markdown",
      "id": "b7194c37",
      "metadata": {
        "id": "b7194c37"
      },
      "source": [
        "Information of the datasets"
      ]
    },
    {
      "cell_type": "code",
      "execution_count": 20,
      "id": "159ab971",
      "metadata": {
        "colab": {
          "base_uri": "https://localhost:8080/"
        },
        "id": "159ab971",
        "outputId": "276a4898-e29a-418c-d8a5-d8ca04462951"
      },
      "outputs": [
        {
          "output_type": "stream",
          "name": "stdout",
          "text": [
            "<class 'pandas.core.frame.DataFrame'>\n",
            "RangeIndex: 2644 entries, 0 to 2643\n",
            "Data columns (total 4 columns):\n",
            " #   Column          Non-Null Count  Dtype \n",
            "---  ------          --------------  ----- \n",
            " 0   timestamp       2644 non-null   int64 \n",
            " 1   value           2644 non-null   int64 \n",
            " 2   classification  2644 non-null   object\n",
            " 3   date            2644 non-null   object\n",
            "dtypes: int64(2), object(2)\n",
            "memory usage: 82.8+ KB\n"
          ]
        }
      ],
      "source": [
        "# Fear_Greed index\n",
        "\n",
        "FG_df.info()"
      ]
    },
    {
      "cell_type": "code",
      "execution_count": 21,
      "id": "3b012995",
      "metadata": {
        "colab": {
          "base_uri": "https://localhost:8080/",
          "height": 206
        },
        "id": "3b012995",
        "outputId": "2fef489d-c7ab-44a1-e5e4-adb7ef36f91e"
      },
      "outputs": [
        {
          "output_type": "execute_result",
          "data": {
            "text/plain": [
              "    timestamp  value classification        date\n",
              "0  1517463000     30           Fear  2018-02-01\n",
              "1  1517549400     15   Extreme Fear  2018-02-02\n",
              "2  1517635800     40           Fear  2018-02-03\n",
              "3  1517722200     24   Extreme Fear  2018-02-04\n",
              "4  1517808600     11   Extreme Fear  2018-02-05"
            ],
            "text/html": [
              "\n",
              "  <div id=\"df-07b5c07a-73fc-4539-bda5-9ed8d155199e\" class=\"colab-df-container\">\n",
              "    <div>\n",
              "<style scoped>\n",
              "    .dataframe tbody tr th:only-of-type {\n",
              "        vertical-align: middle;\n",
              "    }\n",
              "\n",
              "    .dataframe tbody tr th {\n",
              "        vertical-align: top;\n",
              "    }\n",
              "\n",
              "    .dataframe thead th {\n",
              "        text-align: right;\n",
              "    }\n",
              "</style>\n",
              "<table border=\"1\" class=\"dataframe\">\n",
              "  <thead>\n",
              "    <tr style=\"text-align: right;\">\n",
              "      <th></th>\n",
              "      <th>timestamp</th>\n",
              "      <th>value</th>\n",
              "      <th>classification</th>\n",
              "      <th>date</th>\n",
              "    </tr>\n",
              "  </thead>\n",
              "  <tbody>\n",
              "    <tr>\n",
              "      <th>0</th>\n",
              "      <td>1517463000</td>\n",
              "      <td>30</td>\n",
              "      <td>Fear</td>\n",
              "      <td>2018-02-01</td>\n",
              "    </tr>\n",
              "    <tr>\n",
              "      <th>1</th>\n",
              "      <td>1517549400</td>\n",
              "      <td>15</td>\n",
              "      <td>Extreme Fear</td>\n",
              "      <td>2018-02-02</td>\n",
              "    </tr>\n",
              "    <tr>\n",
              "      <th>2</th>\n",
              "      <td>1517635800</td>\n",
              "      <td>40</td>\n",
              "      <td>Fear</td>\n",
              "      <td>2018-02-03</td>\n",
              "    </tr>\n",
              "    <tr>\n",
              "      <th>3</th>\n",
              "      <td>1517722200</td>\n",
              "      <td>24</td>\n",
              "      <td>Extreme Fear</td>\n",
              "      <td>2018-02-04</td>\n",
              "    </tr>\n",
              "    <tr>\n",
              "      <th>4</th>\n",
              "      <td>1517808600</td>\n",
              "      <td>11</td>\n",
              "      <td>Extreme Fear</td>\n",
              "      <td>2018-02-05</td>\n",
              "    </tr>\n",
              "  </tbody>\n",
              "</table>\n",
              "</div>\n",
              "    <div class=\"colab-df-buttons\">\n",
              "\n",
              "  <div class=\"colab-df-container\">\n",
              "    <button class=\"colab-df-convert\" onclick=\"convertToInteractive('df-07b5c07a-73fc-4539-bda5-9ed8d155199e')\"\n",
              "            title=\"Convert this dataframe to an interactive table.\"\n",
              "            style=\"display:none;\">\n",
              "\n",
              "  <svg xmlns=\"http://www.w3.org/2000/svg\" height=\"24px\" viewBox=\"0 -960 960 960\">\n",
              "    <path d=\"M120-120v-720h720v720H120Zm60-500h600v-160H180v160Zm220 220h160v-160H400v160Zm0 220h160v-160H400v160ZM180-400h160v-160H180v160Zm440 0h160v-160H620v160ZM180-180h160v-160H180v160Zm440 0h160v-160H620v160Z\"/>\n",
              "  </svg>\n",
              "    </button>\n",
              "\n",
              "  <style>\n",
              "    .colab-df-container {\n",
              "      display:flex;\n",
              "      gap: 12px;\n",
              "    }\n",
              "\n",
              "    .colab-df-convert {\n",
              "      background-color: #E8F0FE;\n",
              "      border: none;\n",
              "      border-radius: 50%;\n",
              "      cursor: pointer;\n",
              "      display: none;\n",
              "      fill: #1967D2;\n",
              "      height: 32px;\n",
              "      padding: 0 0 0 0;\n",
              "      width: 32px;\n",
              "    }\n",
              "\n",
              "    .colab-df-convert:hover {\n",
              "      background-color: #E2EBFA;\n",
              "      box-shadow: 0px 1px 2px rgba(60, 64, 67, 0.3), 0px 1px 3px 1px rgba(60, 64, 67, 0.15);\n",
              "      fill: #174EA6;\n",
              "    }\n",
              "\n",
              "    .colab-df-buttons div {\n",
              "      margin-bottom: 4px;\n",
              "    }\n",
              "\n",
              "    [theme=dark] .colab-df-convert {\n",
              "      background-color: #3B4455;\n",
              "      fill: #D2E3FC;\n",
              "    }\n",
              "\n",
              "    [theme=dark] .colab-df-convert:hover {\n",
              "      background-color: #434B5C;\n",
              "      box-shadow: 0px 1px 3px 1px rgba(0, 0, 0, 0.15);\n",
              "      filter: drop-shadow(0px 1px 2px rgba(0, 0, 0, 0.3));\n",
              "      fill: #FFFFFF;\n",
              "    }\n",
              "  </style>\n",
              "\n",
              "    <script>\n",
              "      const buttonEl =\n",
              "        document.querySelector('#df-07b5c07a-73fc-4539-bda5-9ed8d155199e button.colab-df-convert');\n",
              "      buttonEl.style.display =\n",
              "        google.colab.kernel.accessAllowed ? 'block' : 'none';\n",
              "\n",
              "      async function convertToInteractive(key) {\n",
              "        const element = document.querySelector('#df-07b5c07a-73fc-4539-bda5-9ed8d155199e');\n",
              "        const dataTable =\n",
              "          await google.colab.kernel.invokeFunction('convertToInteractive',\n",
              "                                                    [key], {});\n",
              "        if (!dataTable) return;\n",
              "\n",
              "        const docLinkHtml = 'Like what you see? Visit the ' +\n",
              "          '<a target=\"_blank\" href=https://colab.research.google.com/notebooks/data_table.ipynb>data table notebook</a>'\n",
              "          + ' to learn more about interactive tables.';\n",
              "        element.innerHTML = '';\n",
              "        dataTable['output_type'] = 'display_data';\n",
              "        await google.colab.output.renderOutput(dataTable, element);\n",
              "        const docLink = document.createElement('div');\n",
              "        docLink.innerHTML = docLinkHtml;\n",
              "        element.appendChild(docLink);\n",
              "      }\n",
              "    </script>\n",
              "  </div>\n",
              "\n",
              "\n",
              "    <div id=\"df-f9cb9d0c-c459-4000-87e6-3ce355d26619\">\n",
              "      <button class=\"colab-df-quickchart\" onclick=\"quickchart('df-f9cb9d0c-c459-4000-87e6-3ce355d26619')\"\n",
              "                title=\"Suggest charts\"\n",
              "                style=\"display:none;\">\n",
              "\n",
              "<svg xmlns=\"http://www.w3.org/2000/svg\" height=\"24px\"viewBox=\"0 0 24 24\"\n",
              "     width=\"24px\">\n",
              "    <g>\n",
              "        <path d=\"M19 3H5c-1.1 0-2 .9-2 2v14c0 1.1.9 2 2 2h14c1.1 0 2-.9 2-2V5c0-1.1-.9-2-2-2zM9 17H7v-7h2v7zm4 0h-2V7h2v10zm4 0h-2v-4h2v4z\"/>\n",
              "    </g>\n",
              "</svg>\n",
              "      </button>\n",
              "\n",
              "<style>\n",
              "  .colab-df-quickchart {\n",
              "      --bg-color: #E8F0FE;\n",
              "      --fill-color: #1967D2;\n",
              "      --hover-bg-color: #E2EBFA;\n",
              "      --hover-fill-color: #174EA6;\n",
              "      --disabled-fill-color: #AAA;\n",
              "      --disabled-bg-color: #DDD;\n",
              "  }\n",
              "\n",
              "  [theme=dark] .colab-df-quickchart {\n",
              "      --bg-color: #3B4455;\n",
              "      --fill-color: #D2E3FC;\n",
              "      --hover-bg-color: #434B5C;\n",
              "      --hover-fill-color: #FFFFFF;\n",
              "      --disabled-bg-color: #3B4455;\n",
              "      --disabled-fill-color: #666;\n",
              "  }\n",
              "\n",
              "  .colab-df-quickchart {\n",
              "    background-color: var(--bg-color);\n",
              "    border: none;\n",
              "    border-radius: 50%;\n",
              "    cursor: pointer;\n",
              "    display: none;\n",
              "    fill: var(--fill-color);\n",
              "    height: 32px;\n",
              "    padding: 0;\n",
              "    width: 32px;\n",
              "  }\n",
              "\n",
              "  .colab-df-quickchart:hover {\n",
              "    background-color: var(--hover-bg-color);\n",
              "    box-shadow: 0 1px 2px rgba(60, 64, 67, 0.3), 0 1px 3px 1px rgba(60, 64, 67, 0.15);\n",
              "    fill: var(--button-hover-fill-color);\n",
              "  }\n",
              "\n",
              "  .colab-df-quickchart-complete:disabled,\n",
              "  .colab-df-quickchart-complete:disabled:hover {\n",
              "    background-color: var(--disabled-bg-color);\n",
              "    fill: var(--disabled-fill-color);\n",
              "    box-shadow: none;\n",
              "  }\n",
              "\n",
              "  .colab-df-spinner {\n",
              "    border: 2px solid var(--fill-color);\n",
              "    border-color: transparent;\n",
              "    border-bottom-color: var(--fill-color);\n",
              "    animation:\n",
              "      spin 1s steps(1) infinite;\n",
              "  }\n",
              "\n",
              "  @keyframes spin {\n",
              "    0% {\n",
              "      border-color: transparent;\n",
              "      border-bottom-color: var(--fill-color);\n",
              "      border-left-color: var(--fill-color);\n",
              "    }\n",
              "    20% {\n",
              "      border-color: transparent;\n",
              "      border-left-color: var(--fill-color);\n",
              "      border-top-color: var(--fill-color);\n",
              "    }\n",
              "    30% {\n",
              "      border-color: transparent;\n",
              "      border-left-color: var(--fill-color);\n",
              "      border-top-color: var(--fill-color);\n",
              "      border-right-color: var(--fill-color);\n",
              "    }\n",
              "    40% {\n",
              "      border-color: transparent;\n",
              "      border-right-color: var(--fill-color);\n",
              "      border-top-color: var(--fill-color);\n",
              "    }\n",
              "    60% {\n",
              "      border-color: transparent;\n",
              "      border-right-color: var(--fill-color);\n",
              "    }\n",
              "    80% {\n",
              "      border-color: transparent;\n",
              "      border-right-color: var(--fill-color);\n",
              "      border-bottom-color: var(--fill-color);\n",
              "    }\n",
              "    90% {\n",
              "      border-color: transparent;\n",
              "      border-bottom-color: var(--fill-color);\n",
              "    }\n",
              "  }\n",
              "</style>\n",
              "\n",
              "      <script>\n",
              "        async function quickchart(key) {\n",
              "          const quickchartButtonEl =\n",
              "            document.querySelector('#' + key + ' button');\n",
              "          quickchartButtonEl.disabled = true;  // To prevent multiple clicks.\n",
              "          quickchartButtonEl.classList.add('colab-df-spinner');\n",
              "          try {\n",
              "            const charts = await google.colab.kernel.invokeFunction(\n",
              "                'suggestCharts', [key], {});\n",
              "          } catch (error) {\n",
              "            console.error('Error during call to suggestCharts:', error);\n",
              "          }\n",
              "          quickchartButtonEl.classList.remove('colab-df-spinner');\n",
              "          quickchartButtonEl.classList.add('colab-df-quickchart-complete');\n",
              "        }\n",
              "        (() => {\n",
              "          let quickchartButtonEl =\n",
              "            document.querySelector('#df-f9cb9d0c-c459-4000-87e6-3ce355d26619 button');\n",
              "          quickchartButtonEl.style.display =\n",
              "            google.colab.kernel.accessAllowed ? 'block' : 'none';\n",
              "        })();\n",
              "      </script>\n",
              "    </div>\n",
              "\n",
              "    </div>\n",
              "  </div>\n"
            ],
            "application/vnd.google.colaboratory.intrinsic+json": {
              "type": "dataframe",
              "variable_name": "FG_df",
              "summary": "{\n  \"name\": \"FG_df\",\n  \"rows\": 2644,\n  \"fields\": [\n    {\n      \"column\": \"timestamp\",\n      \"properties\": {\n        \"dtype\": \"number\",\n        \"std\": 65979674,\n        \"min\": 1517463000,\n        \"max\": 1746163800,\n        \"num_unique_values\": 2644,\n        \"samples\": [\n          1594531800,\n          1613626200,\n          1630819800\n        ],\n        \"semantic_type\": \"\",\n        \"description\": \"\"\n      }\n    },\n    {\n      \"column\": \"value\",\n      \"properties\": {\n        \"dtype\": \"number\",\n        \"std\": 21,\n        \"min\": 5,\n        \"max\": 95,\n        \"num_unique_values\": 90,\n        \"samples\": [\n          61,\n          47,\n          65\n        ],\n        \"semantic_type\": \"\",\n        \"description\": \"\"\n      }\n    },\n    {\n      \"column\": \"classification\",\n      \"properties\": {\n        \"dtype\": \"category\",\n        \"num_unique_values\": 5,\n        \"samples\": [\n          \"Extreme Fear\",\n          \"Extreme Greed\",\n          \"Neutral\"\n        ],\n        \"semantic_type\": \"\",\n        \"description\": \"\"\n      }\n    },\n    {\n      \"column\": \"date\",\n      \"properties\": {\n        \"dtype\": \"object\",\n        \"num_unique_values\": 2644,\n        \"samples\": [\n          \"2020-07-12\",\n          \"2021-02-18\",\n          \"2021-09-05\"\n        ],\n        \"semantic_type\": \"\",\n        \"description\": \"\"\n      }\n    }\n  ]\n}"
            }
          },
          "metadata": {},
          "execution_count": 21
        }
      ],
      "source": [
        "FG_df.head(5)"
      ]
    },
    {
      "cell_type": "code",
      "execution_count": 22,
      "id": "2b0fbc5d",
      "metadata": {
        "colab": {
          "base_uri": "https://localhost:8080/"
        },
        "id": "2b0fbc5d",
        "outputId": "f18b4157-04e9-48f1-82d2-05644e67f989"
      },
      "outputs": [
        {
          "output_type": "stream",
          "name": "stdout",
          "text": [
            "<class 'pandas.core.frame.DataFrame'>\n",
            "RangeIndex: 69811 entries, 0 to 69810\n",
            "Data columns (total 16 columns):\n",
            " #   Column            Non-Null Count  Dtype  \n",
            "---  ------            --------------  -----  \n",
            " 0   Account           69811 non-null  object \n",
            " 1   Coin              69811 non-null  object \n",
            " 2   Execution Price   69811 non-null  float64\n",
            " 3   Size Tokens       69811 non-null  float64\n",
            " 4   Size USD          69811 non-null  float64\n",
            " 5   Side              69811 non-null  object \n",
            " 6   Timestamp IST     69811 non-null  object \n",
            " 7   Start Position    69811 non-null  float64\n",
            " 8   Direction         69811 non-null  object \n",
            " 9   Closed PnL        69811 non-null  float64\n",
            " 10  Transaction Hash  69811 non-null  object \n",
            " 11  Order ID          69811 non-null  int64  \n",
            " 12  Crossed           69811 non-null  object \n",
            " 13  Fee               69810 non-null  float64\n",
            " 14  Trade ID          69810 non-null  float64\n",
            " 15  Timestamp         69810 non-null  float64\n",
            "dtypes: float64(8), int64(1), object(7)\n",
            "memory usage: 8.5+ MB\n"
          ]
        }
      ],
      "source": [
        "# Historical data\n",
        "\n",
        "hist_df.info()"
      ]
    },
    {
      "cell_type": "code",
      "execution_count": 23,
      "id": "8cb836e0",
      "metadata": {
        "colab": {
          "base_uri": "https://localhost:8080/",
          "height": 417
        },
        "id": "8cb836e0",
        "outputId": "93b0b3e8-bc43-481f-83e4-fa3ea7af9f49"
      },
      "outputs": [
        {
          "output_type": "execute_result",
          "data": {
            "text/plain": [
              "                                      Account  Coin  Execution Price  \\\n",
              "0  0xae5eacaf9c6b9111fd53034a602c192a04e082ed  @107           7.9769   \n",
              "1  0xae5eacaf9c6b9111fd53034a602c192a04e082ed  @107           7.9800   \n",
              "2  0xae5eacaf9c6b9111fd53034a602c192a04e082ed  @107           7.9855   \n",
              "3  0xae5eacaf9c6b9111fd53034a602c192a04e082ed  @107           7.9874   \n",
              "4  0xae5eacaf9c6b9111fd53034a602c192a04e082ed  @107           7.9894   \n",
              "\n",
              "   Size Tokens  Size USD Side     Timestamp IST  Start Position Direction  \\\n",
              "0       986.87   7872.16  BUY  02-12-2024 22:50        0.000000       Buy   \n",
              "1        16.00    127.68  BUY  02-12-2024 22:50      986.524596       Buy   \n",
              "2       144.09   1150.63  BUY  02-12-2024 22:50     1002.518996       Buy   \n",
              "3       142.98   1142.04  BUY  02-12-2024 22:50     1146.558564       Buy   \n",
              "4         8.73     69.75  BUY  02-12-2024 22:50     1289.488521       Buy   \n",
              "\n",
              "   Closed PnL                                   Transaction Hash     Order ID  \\\n",
              "0         0.0  0xec09451986a1874e3a980418412fcd0201f500c95bac...  52017706630   \n",
              "1         0.0  0xec09451986a1874e3a980418412fcd0201f500c95bac...  52017706630   \n",
              "2         0.0  0xec09451986a1874e3a980418412fcd0201f500c95bac...  52017706630   \n",
              "3         0.0  0xec09451986a1874e3a980418412fcd0201f500c95bac...  52017706630   \n",
              "4         0.0  0xec09451986a1874e3a980418412fcd0201f500c95bac...  52017706630   \n",
              "\n",
              "  Crossed       Fee      Trade ID     Timestamp  \n",
              "0    True  0.345404  8.950000e+14  1.730000e+12  \n",
              "1    True  0.005600  4.430000e+14  1.730000e+12  \n",
              "2    True  0.050431  6.600000e+14  1.730000e+12  \n",
              "3    True  0.050043  1.080000e+15  1.730000e+12  \n",
              "4    True  0.003055  1.050000e+15  1.730000e+12  "
            ],
            "text/html": [
              "\n",
              "  <div id=\"df-4bd6d4b7-b636-4053-91eb-667ff1a3b58c\" class=\"colab-df-container\">\n",
              "    <div>\n",
              "<style scoped>\n",
              "    .dataframe tbody tr th:only-of-type {\n",
              "        vertical-align: middle;\n",
              "    }\n",
              "\n",
              "    .dataframe tbody tr th {\n",
              "        vertical-align: top;\n",
              "    }\n",
              "\n",
              "    .dataframe thead th {\n",
              "        text-align: right;\n",
              "    }\n",
              "</style>\n",
              "<table border=\"1\" class=\"dataframe\">\n",
              "  <thead>\n",
              "    <tr style=\"text-align: right;\">\n",
              "      <th></th>\n",
              "      <th>Account</th>\n",
              "      <th>Coin</th>\n",
              "      <th>Execution Price</th>\n",
              "      <th>Size Tokens</th>\n",
              "      <th>Size USD</th>\n",
              "      <th>Side</th>\n",
              "      <th>Timestamp IST</th>\n",
              "      <th>Start Position</th>\n",
              "      <th>Direction</th>\n",
              "      <th>Closed PnL</th>\n",
              "      <th>Transaction Hash</th>\n",
              "      <th>Order ID</th>\n",
              "      <th>Crossed</th>\n",
              "      <th>Fee</th>\n",
              "      <th>Trade ID</th>\n",
              "      <th>Timestamp</th>\n",
              "    </tr>\n",
              "  </thead>\n",
              "  <tbody>\n",
              "    <tr>\n",
              "      <th>0</th>\n",
              "      <td>0xae5eacaf9c6b9111fd53034a602c192a04e082ed</td>\n",
              "      <td>@107</td>\n",
              "      <td>7.9769</td>\n",
              "      <td>986.87</td>\n",
              "      <td>7872.16</td>\n",
              "      <td>BUY</td>\n",
              "      <td>02-12-2024 22:50</td>\n",
              "      <td>0.000000</td>\n",
              "      <td>Buy</td>\n",
              "      <td>0.0</td>\n",
              "      <td>0xec09451986a1874e3a980418412fcd0201f500c95bac...</td>\n",
              "      <td>52017706630</td>\n",
              "      <td>True</td>\n",
              "      <td>0.345404</td>\n",
              "      <td>8.950000e+14</td>\n",
              "      <td>1.730000e+12</td>\n",
              "    </tr>\n",
              "    <tr>\n",
              "      <th>1</th>\n",
              "      <td>0xae5eacaf9c6b9111fd53034a602c192a04e082ed</td>\n",
              "      <td>@107</td>\n",
              "      <td>7.9800</td>\n",
              "      <td>16.00</td>\n",
              "      <td>127.68</td>\n",
              "      <td>BUY</td>\n",
              "      <td>02-12-2024 22:50</td>\n",
              "      <td>986.524596</td>\n",
              "      <td>Buy</td>\n",
              "      <td>0.0</td>\n",
              "      <td>0xec09451986a1874e3a980418412fcd0201f500c95bac...</td>\n",
              "      <td>52017706630</td>\n",
              "      <td>True</td>\n",
              "      <td>0.005600</td>\n",
              "      <td>4.430000e+14</td>\n",
              "      <td>1.730000e+12</td>\n",
              "    </tr>\n",
              "    <tr>\n",
              "      <th>2</th>\n",
              "      <td>0xae5eacaf9c6b9111fd53034a602c192a04e082ed</td>\n",
              "      <td>@107</td>\n",
              "      <td>7.9855</td>\n",
              "      <td>144.09</td>\n",
              "      <td>1150.63</td>\n",
              "      <td>BUY</td>\n",
              "      <td>02-12-2024 22:50</td>\n",
              "      <td>1002.518996</td>\n",
              "      <td>Buy</td>\n",
              "      <td>0.0</td>\n",
              "      <td>0xec09451986a1874e3a980418412fcd0201f500c95bac...</td>\n",
              "      <td>52017706630</td>\n",
              "      <td>True</td>\n",
              "      <td>0.050431</td>\n",
              "      <td>6.600000e+14</td>\n",
              "      <td>1.730000e+12</td>\n",
              "    </tr>\n",
              "    <tr>\n",
              "      <th>3</th>\n",
              "      <td>0xae5eacaf9c6b9111fd53034a602c192a04e082ed</td>\n",
              "      <td>@107</td>\n",
              "      <td>7.9874</td>\n",
              "      <td>142.98</td>\n",
              "      <td>1142.04</td>\n",
              "      <td>BUY</td>\n",
              "      <td>02-12-2024 22:50</td>\n",
              "      <td>1146.558564</td>\n",
              "      <td>Buy</td>\n",
              "      <td>0.0</td>\n",
              "      <td>0xec09451986a1874e3a980418412fcd0201f500c95bac...</td>\n",
              "      <td>52017706630</td>\n",
              "      <td>True</td>\n",
              "      <td>0.050043</td>\n",
              "      <td>1.080000e+15</td>\n",
              "      <td>1.730000e+12</td>\n",
              "    </tr>\n",
              "    <tr>\n",
              "      <th>4</th>\n",
              "      <td>0xae5eacaf9c6b9111fd53034a602c192a04e082ed</td>\n",
              "      <td>@107</td>\n",
              "      <td>7.9894</td>\n",
              "      <td>8.73</td>\n",
              "      <td>69.75</td>\n",
              "      <td>BUY</td>\n",
              "      <td>02-12-2024 22:50</td>\n",
              "      <td>1289.488521</td>\n",
              "      <td>Buy</td>\n",
              "      <td>0.0</td>\n",
              "      <td>0xec09451986a1874e3a980418412fcd0201f500c95bac...</td>\n",
              "      <td>52017706630</td>\n",
              "      <td>True</td>\n",
              "      <td>0.003055</td>\n",
              "      <td>1.050000e+15</td>\n",
              "      <td>1.730000e+12</td>\n",
              "    </tr>\n",
              "  </tbody>\n",
              "</table>\n",
              "</div>\n",
              "    <div class=\"colab-df-buttons\">\n",
              "\n",
              "  <div class=\"colab-df-container\">\n",
              "    <button class=\"colab-df-convert\" onclick=\"convertToInteractive('df-4bd6d4b7-b636-4053-91eb-667ff1a3b58c')\"\n",
              "            title=\"Convert this dataframe to an interactive table.\"\n",
              "            style=\"display:none;\">\n",
              "\n",
              "  <svg xmlns=\"http://www.w3.org/2000/svg\" height=\"24px\" viewBox=\"0 -960 960 960\">\n",
              "    <path d=\"M120-120v-720h720v720H120Zm60-500h600v-160H180v160Zm220 220h160v-160H400v160Zm0 220h160v-160H400v160ZM180-400h160v-160H180v160Zm440 0h160v-160H620v160ZM180-180h160v-160H180v160Zm440 0h160v-160H620v160Z\"/>\n",
              "  </svg>\n",
              "    </button>\n",
              "\n",
              "  <style>\n",
              "    .colab-df-container {\n",
              "      display:flex;\n",
              "      gap: 12px;\n",
              "    }\n",
              "\n",
              "    .colab-df-convert {\n",
              "      background-color: #E8F0FE;\n",
              "      border: none;\n",
              "      border-radius: 50%;\n",
              "      cursor: pointer;\n",
              "      display: none;\n",
              "      fill: #1967D2;\n",
              "      height: 32px;\n",
              "      padding: 0 0 0 0;\n",
              "      width: 32px;\n",
              "    }\n",
              "\n",
              "    .colab-df-convert:hover {\n",
              "      background-color: #E2EBFA;\n",
              "      box-shadow: 0px 1px 2px rgba(60, 64, 67, 0.3), 0px 1px 3px 1px rgba(60, 64, 67, 0.15);\n",
              "      fill: #174EA6;\n",
              "    }\n",
              "\n",
              "    .colab-df-buttons div {\n",
              "      margin-bottom: 4px;\n",
              "    }\n",
              "\n",
              "    [theme=dark] .colab-df-convert {\n",
              "      background-color: #3B4455;\n",
              "      fill: #D2E3FC;\n",
              "    }\n",
              "\n",
              "    [theme=dark] .colab-df-convert:hover {\n",
              "      background-color: #434B5C;\n",
              "      box-shadow: 0px 1px 3px 1px rgba(0, 0, 0, 0.15);\n",
              "      filter: drop-shadow(0px 1px 2px rgba(0, 0, 0, 0.3));\n",
              "      fill: #FFFFFF;\n",
              "    }\n",
              "  </style>\n",
              "\n",
              "    <script>\n",
              "      const buttonEl =\n",
              "        document.querySelector('#df-4bd6d4b7-b636-4053-91eb-667ff1a3b58c button.colab-df-convert');\n",
              "      buttonEl.style.display =\n",
              "        google.colab.kernel.accessAllowed ? 'block' : 'none';\n",
              "\n",
              "      async function convertToInteractive(key) {\n",
              "        const element = document.querySelector('#df-4bd6d4b7-b636-4053-91eb-667ff1a3b58c');\n",
              "        const dataTable =\n",
              "          await google.colab.kernel.invokeFunction('convertToInteractive',\n",
              "                                                    [key], {});\n",
              "        if (!dataTable) return;\n",
              "\n",
              "        const docLinkHtml = 'Like what you see? Visit the ' +\n",
              "          '<a target=\"_blank\" href=https://colab.research.google.com/notebooks/data_table.ipynb>data table notebook</a>'\n",
              "          + ' to learn more about interactive tables.';\n",
              "        element.innerHTML = '';\n",
              "        dataTable['output_type'] = 'display_data';\n",
              "        await google.colab.output.renderOutput(dataTable, element);\n",
              "        const docLink = document.createElement('div');\n",
              "        docLink.innerHTML = docLinkHtml;\n",
              "        element.appendChild(docLink);\n",
              "      }\n",
              "    </script>\n",
              "  </div>\n",
              "\n",
              "\n",
              "    <div id=\"df-93d2ac61-38d8-45d8-88da-a6f9ae7898d5\">\n",
              "      <button class=\"colab-df-quickchart\" onclick=\"quickchart('df-93d2ac61-38d8-45d8-88da-a6f9ae7898d5')\"\n",
              "                title=\"Suggest charts\"\n",
              "                style=\"display:none;\">\n",
              "\n",
              "<svg xmlns=\"http://www.w3.org/2000/svg\" height=\"24px\"viewBox=\"0 0 24 24\"\n",
              "     width=\"24px\">\n",
              "    <g>\n",
              "        <path d=\"M19 3H5c-1.1 0-2 .9-2 2v14c0 1.1.9 2 2 2h14c1.1 0 2-.9 2-2V5c0-1.1-.9-2-2-2zM9 17H7v-7h2v7zm4 0h-2V7h2v10zm4 0h-2v-4h2v4z\"/>\n",
              "    </g>\n",
              "</svg>\n",
              "      </button>\n",
              "\n",
              "<style>\n",
              "  .colab-df-quickchart {\n",
              "      --bg-color: #E8F0FE;\n",
              "      --fill-color: #1967D2;\n",
              "      --hover-bg-color: #E2EBFA;\n",
              "      --hover-fill-color: #174EA6;\n",
              "      --disabled-fill-color: #AAA;\n",
              "      --disabled-bg-color: #DDD;\n",
              "  }\n",
              "\n",
              "  [theme=dark] .colab-df-quickchart {\n",
              "      --bg-color: #3B4455;\n",
              "      --fill-color: #D2E3FC;\n",
              "      --hover-bg-color: #434B5C;\n",
              "      --hover-fill-color: #FFFFFF;\n",
              "      --disabled-bg-color: #3B4455;\n",
              "      --disabled-fill-color: #666;\n",
              "  }\n",
              "\n",
              "  .colab-df-quickchart {\n",
              "    background-color: var(--bg-color);\n",
              "    border: none;\n",
              "    border-radius: 50%;\n",
              "    cursor: pointer;\n",
              "    display: none;\n",
              "    fill: var(--fill-color);\n",
              "    height: 32px;\n",
              "    padding: 0;\n",
              "    width: 32px;\n",
              "  }\n",
              "\n",
              "  .colab-df-quickchart:hover {\n",
              "    background-color: var(--hover-bg-color);\n",
              "    box-shadow: 0 1px 2px rgba(60, 64, 67, 0.3), 0 1px 3px 1px rgba(60, 64, 67, 0.15);\n",
              "    fill: var(--button-hover-fill-color);\n",
              "  }\n",
              "\n",
              "  .colab-df-quickchart-complete:disabled,\n",
              "  .colab-df-quickchart-complete:disabled:hover {\n",
              "    background-color: var(--disabled-bg-color);\n",
              "    fill: var(--disabled-fill-color);\n",
              "    box-shadow: none;\n",
              "  }\n",
              "\n",
              "  .colab-df-spinner {\n",
              "    border: 2px solid var(--fill-color);\n",
              "    border-color: transparent;\n",
              "    border-bottom-color: var(--fill-color);\n",
              "    animation:\n",
              "      spin 1s steps(1) infinite;\n",
              "  }\n",
              "\n",
              "  @keyframes spin {\n",
              "    0% {\n",
              "      border-color: transparent;\n",
              "      border-bottom-color: var(--fill-color);\n",
              "      border-left-color: var(--fill-color);\n",
              "    }\n",
              "    20% {\n",
              "      border-color: transparent;\n",
              "      border-left-color: var(--fill-color);\n",
              "      border-top-color: var(--fill-color);\n",
              "    }\n",
              "    30% {\n",
              "      border-color: transparent;\n",
              "      border-left-color: var(--fill-color);\n",
              "      border-top-color: var(--fill-color);\n",
              "      border-right-color: var(--fill-color);\n",
              "    }\n",
              "    40% {\n",
              "      border-color: transparent;\n",
              "      border-right-color: var(--fill-color);\n",
              "      border-top-color: var(--fill-color);\n",
              "    }\n",
              "    60% {\n",
              "      border-color: transparent;\n",
              "      border-right-color: var(--fill-color);\n",
              "    }\n",
              "    80% {\n",
              "      border-color: transparent;\n",
              "      border-right-color: var(--fill-color);\n",
              "      border-bottom-color: var(--fill-color);\n",
              "    }\n",
              "    90% {\n",
              "      border-color: transparent;\n",
              "      border-bottom-color: var(--fill-color);\n",
              "    }\n",
              "  }\n",
              "</style>\n",
              "\n",
              "      <script>\n",
              "        async function quickchart(key) {\n",
              "          const quickchartButtonEl =\n",
              "            document.querySelector('#' + key + ' button');\n",
              "          quickchartButtonEl.disabled = true;  // To prevent multiple clicks.\n",
              "          quickchartButtonEl.classList.add('colab-df-spinner');\n",
              "          try {\n",
              "            const charts = await google.colab.kernel.invokeFunction(\n",
              "                'suggestCharts', [key], {});\n",
              "          } catch (error) {\n",
              "            console.error('Error during call to suggestCharts:', error);\n",
              "          }\n",
              "          quickchartButtonEl.classList.remove('colab-df-spinner');\n",
              "          quickchartButtonEl.classList.add('colab-df-quickchart-complete');\n",
              "        }\n",
              "        (() => {\n",
              "          let quickchartButtonEl =\n",
              "            document.querySelector('#df-93d2ac61-38d8-45d8-88da-a6f9ae7898d5 button');\n",
              "          quickchartButtonEl.style.display =\n",
              "            google.colab.kernel.accessAllowed ? 'block' : 'none';\n",
              "        })();\n",
              "      </script>\n",
              "    </div>\n",
              "\n",
              "    </div>\n",
              "  </div>\n"
            ],
            "application/vnd.google.colaboratory.intrinsic+json": {
              "type": "dataframe",
              "variable_name": "hist_df",
              "summary": "{\n  \"name\": \"hist_df\",\n  \"rows\": 69811,\n  \"fields\": [\n    {\n      \"column\": \"Account\",\n      \"properties\": {\n        \"dtype\": \"category\",\n        \"num_unique_values\": 13,\n        \"samples\": [\n          \"0x6d6a4b953f202f8df5bed40692e7fd865318264a\",\n          \"0xb1231a4a2dd02f2276fa3c5e2a2f3436e6bfed23\",\n          \"0xae5eacaf9c6b9111fd53034a602c192a04e082ed\"\n        ],\n        \"semantic_type\": \"\",\n        \"description\": \"\"\n      }\n    },\n    {\n      \"column\": \"Coin\",\n      \"properties\": {\n        \"dtype\": \"category\",\n        \"num_unique_values\": 183,\n        \"samples\": [\n          \"BERA\",\n          \"@9\",\n          \"SUSHI\"\n        ],\n        \"semantic_type\": \"\",\n        \"description\": \"\"\n      }\n    },\n    {\n      \"column\": \"Execution Price\",\n      \"properties\": {\n        \"dtype\": \"number\",\n        \"std\": 36953.42920528594,\n        \"min\": 1e-05,\n        \"max\": 108410.0,\n        \"num_unique_values\": 20862,\n        \"samples\": [\n          91047.0,\n          3.7259,\n          2288.5\n        ],\n        \"semantic_type\": \"\",\n        \"description\": \"\"\n      }\n    },\n    {\n      \"column\": \"Size Tokens\",\n      \"properties\": {\n        \"dtype\": \"number\",\n        \"std\": 175933.34579315383,\n        \"min\": 5.33e-06,\n        \"max\": 15822438.0,\n        \"num_unique_values\": 29761,\n        \"samples\": [\n          32.59,\n          1.38519,\n          0.03913\n        ],\n        \"semantic_type\": \"\",\n        \"description\": \"\"\n      }\n    },\n    {\n      \"column\": \"Size USD\",\n      \"properties\": {\n        \"dtype\": \"number\",\n        \"std\": 59130.743705961075,\n        \"min\": 0.0,\n        \"max\": 3921430.72,\n        \"num_unique_values\": 48556,\n        \"samples\": [\n          971.75,\n          20016.73,\n          1577.41\n        ],\n        \"semantic_type\": \"\",\n        \"description\": \"\"\n      }\n    },\n    {\n      \"column\": \"Side\",\n      \"properties\": {\n        \"dtype\": \"category\",\n        \"num_unique_values\": 2,\n        \"samples\": [\n          \"SELL\",\n          \"BUY\"\n        ],\n        \"semantic_type\": \"\",\n        \"description\": \"\"\n      }\n    },\n    {\n      \"column\": \"Timestamp IST\",\n      \"properties\": {\n        \"dtype\": \"category\",\n        \"num_unique_values\": 5813,\n        \"samples\": [\n          \"14-02-2025 19:01\",\n          \"25-10-2024 23:41\"\n        ],\n        \"semantic_type\": \"\",\n        \"description\": \"\"\n      }\n    },\n    {\n      \"column\": \"Start Position\",\n      \"properties\": {\n        \"dtype\": \"number\",\n        \"std\": 555665.9036424228,\n        \"min\": -14334629.0,\n        \"max\": 30509482.0,\n        \"num_unique_values\": 67040,\n        \"samples\": [\n          -53.06977,\n          34071.38\n        ],\n        \"semantic_type\": \"\",\n        \"description\": \"\"\n      }\n    },\n    {\n      \"column\": \"Direction\",\n      \"properties\": {\n        \"dtype\": \"category\",\n        \"num_unique_values\": 10,\n        \"samples\": [\n          \"Short > Long\",\n          \"Sell\"\n        ],\n        \"semantic_type\": \"\",\n        \"description\": \"\"\n      }\n    },\n    {\n      \"column\": \"Closed PnL\",\n      \"properties\": {\n        \"dtype\": \"number\",\n        \"std\": 1369.0750866650583,\n        \"min\": -117990.1041,\n        \"max\": 135329.0901,\n        \"num_unique_values\": 29115,\n        \"samples\": [\n          -41.966535,\n          -621.234446\n        ],\n        \"semantic_type\": \"\",\n        \"description\": \"\"\n      }\n    },\n    {\n      \"column\": \"Transaction Hash\",\n      \"properties\": {\n        \"dtype\": \"category\",\n        \"num_unique_values\": 29723,\n        \"samples\": [\n          \"0xb693931a18a12102ca8a04075d0b5d019000a594ff1660796de481dccdf704c3\",\n          \"0x0befa5ed25bd36b853d9041dff78770201a300310371216f1d27c7a93ddf704c\"\n        ],\n        \"semantic_type\": \"\",\n        \"description\": \"\"\n      }\n    },\n    {\n      \"column\": \"Order ID\",\n      \"properties\": {\n        \"dtype\": \"number\",\n        \"std\": 24320709257,\n        \"min\": 4064960965,\n        \"max\": 90149230487,\n        \"num_unique_values\": 8864,\n        \"samples\": [\n          73505718941,\n          53539690806\n        ],\n        \"semantic_type\": \"\",\n        \"description\": \"\"\n      }\n    },\n    {\n      \"column\": \"Crossed\",\n      \"properties\": {\n        \"dtype\": \"category\",\n        \"num_unique_values\": 5,\n        \"samples\": [\n          false,\n          \"FAL\"\n        ],\n        \"semantic_type\": \"\",\n        \"description\": \"\"\n      }\n    },\n    {\n      \"column\": \"Fee\",\n      \"properties\": {\n        \"dtype\": \"number\",\n        \"std\": 10.32463694075088,\n        \"min\": -1.175712,\n        \"max\": 837.471593,\n        \"num_unique_values\": 51618,\n        \"samples\": [\n          0.171441,\n          1.782261\n        ],\n        \"semantic_type\": \"\",\n        \"description\": \"\"\n      }\n    },\n    {\n      \"column\": \"Trade ID\",\n      \"properties\": {\n        \"dtype\": \"number\",\n        \"std\": 326815049450016.3,\n        \"min\": 0.0,\n        \"max\": 1130000000000000.0,\n        \"num_unique_values\": 2300,\n        \"samples\": [\n          898000000000000.0,\n          4690000000000.0\n        ],\n        \"semantic_type\": \"\",\n        \"description\": \"\"\n      }\n    },\n    {\n      \"column\": \"Timestamp\",\n      \"properties\": {\n        \"dtype\": \"number\",\n        \"std\": 11979596053.297802,\n        \"min\": 1700000000000.0,\n        \"max\": 1750000000000.0,\n        \"num_unique_values\": 6,\n        \"samples\": [\n          1730000000000.0,\n          1740000000000.0\n        ],\n        \"semantic_type\": \"\",\n        \"description\": \"\"\n      }\n    }\n  ]\n}"
            }
          },
          "metadata": {},
          "execution_count": 23
        }
      ],
      "source": [
        "hist_df.head(5)"
      ]
    },
    {
      "cell_type": "markdown",
      "id": "b9867aa5",
      "metadata": {
        "id": "b9867aa5"
      },
      "source": [
        "Cleaning the dataset"
      ]
    },
    {
      "cell_type": "code",
      "execution_count": 24,
      "id": "78c5e32d",
      "metadata": {
        "colab": {
          "base_uri": "https://localhost:8080/"
        },
        "id": "78c5e32d",
        "outputId": "76eef79c-c5a4-42e9-c76f-f7ad08308f3e"
      },
      "outputs": [
        {
          "output_type": "stream",
          "name": "stdout",
          "text": [
            "Fear/Gread DF Cleaned:\n",
            "<class 'pandas.core.frame.DataFrame'>\n",
            "RangeIndex: 2644 entries, 0 to 2643\n",
            "Data columns (total 3 columns):\n",
            " #   Column          Non-Null Count  Dtype         \n",
            "---  ------          --------------  -----         \n",
            " 0   date            2644 non-null   datetime64[ns]\n",
            " 1   value           2644 non-null   int64         \n",
            " 2   classification  2644 non-null   object        \n",
            "dtypes: datetime64[ns](1), int64(1), object(1)\n",
            "memory usage: 62.1+ KB\n",
            "None\n"
          ]
        }
      ],
      "source": [
        "# coverting date col from str to datetime\n",
        "FG_df['date'] = pd.to_datetime(FG_df['date'])\n",
        "\n",
        "# we dont need timestamps form these\n",
        "FG_df = FG_df[['date', 'value', 'classification']]\n",
        "\n",
        "print(\"Fear/Gread DF Cleaned:\")\n",
        "print(FG_df.info())\n"
      ]
    },
    {
      "cell_type": "code",
      "execution_count": 25,
      "id": "ee1b1acc",
      "metadata": {
        "colab": {
          "base_uri": "https://localhost:8080/"
        },
        "id": "ee1b1acc",
        "outputId": "d2661f83-0ed3-424c-b883-cf7fc969f0f2"
      },
      "outputs": [
        {
          "output_type": "stream",
          "name": "stdout",
          "text": [
            "Historical DF Cleaned: \n",
            "      Timestamp            datetime       date\n",
            "0  1.730000e+12 2024-10-27 03:33:20 2024-10-27\n",
            "1  1.730000e+12 2024-10-27 03:33:20 2024-10-27\n",
            "2  1.730000e+12 2024-10-27 03:33:20 2024-10-27\n",
            "3  1.730000e+12 2024-10-27 03:33:20 2024-10-27\n",
            "4  1.730000e+12 2024-10-27 03:33:20 2024-10-27\n"
          ]
        }
      ],
      "source": [
        "# Converting the 'Timestamp' col(float) to full datetime obj\n",
        "hist_df['datetime'] = pd.to_datetime(hist_df['Timestamp'], unit = 'ms')\n",
        "\n",
        "# Creating a 'date' col\n",
        "hist_df['date'] = pd.to_datetime(hist_df['datetime'].dt.date)\n",
        "\n",
        "print(\"Historical DF Cleaned: \")\n",
        "print(hist_df[['Timestamp', 'datetime', 'date']].head())"
      ]
    },
    {
      "cell_type": "markdown",
      "id": "e8ff84fd",
      "metadata": {
        "id": "e8ff84fd"
      },
      "source": [
        "Merge the datasets"
      ]
    },
    {
      "cell_type": "code",
      "execution_count": 26,
      "id": "d2d9a7a0",
      "metadata": {
        "colab": {
          "base_uri": "https://localhost:8080/"
        },
        "id": "d2d9a7a0",
        "outputId": "e4db9b8c-527c-40db-e7d2-63f30f42e3ce"
      },
      "outputs": [
        {
          "output_type": "stream",
          "name": "stdout",
          "text": [
            "Mereged DataFrame Info\n",
            "\n",
            "<class 'pandas.core.frame.DataFrame'>\n",
            "RangeIndex: 69811 entries, 0 to 69810\n",
            "Data columns (total 20 columns):\n",
            " #   Column            Non-Null Count  Dtype         \n",
            "---  ------            --------------  -----         \n",
            " 0   Account           69811 non-null  object        \n",
            " 1   Coin              69811 non-null  object        \n",
            " 2   Execution Price   69811 non-null  float64       \n",
            " 3   Size Tokens       69811 non-null  float64       \n",
            " 4   Size USD          69811 non-null  float64       \n",
            " 5   Side              69811 non-null  object        \n",
            " 6   Timestamp IST     69811 non-null  object        \n",
            " 7   Start Position    69811 non-null  float64       \n",
            " 8   Direction         69811 non-null  object        \n",
            " 9   Closed PnL        69811 non-null  float64       \n",
            " 10  Transaction Hash  69811 non-null  object        \n",
            " 11  Order ID          69811 non-null  int64         \n",
            " 12  Crossed           69811 non-null  object        \n",
            " 13  Fee               69810 non-null  float64       \n",
            " 14  Trade ID          69810 non-null  float64       \n",
            " 15  Timestamp         69810 non-null  float64       \n",
            " 16  datetime          69810 non-null  datetime64[ns]\n",
            " 17  date              69810 non-null  datetime64[ns]\n",
            " 18  value             58117 non-null  float64       \n",
            " 19  classification    58117 non-null  object        \n",
            "dtypes: datetime64[ns](2), float64(9), int64(1), object(8)\n",
            "memory usage: 10.7+ MB\n"
          ]
        }
      ],
      "source": [
        "# Mereg the two dataframes on the common 'date' col\n",
        "merged_df = pd.merge(hist_df, FG_df, on='date', how='left')\n",
        "\n",
        "print(\"Mereged DataFrame Info\\n\")\n",
        "merged_df.info()"
      ]
    },
    {
      "cell_type": "code",
      "execution_count": 27,
      "id": "f2b1a051",
      "metadata": {
        "colab": {
          "base_uri": "https://localhost:8080/"
        },
        "id": "f2b1a051",
        "outputId": "c2bad417-64b9-4d25-9f8d-cb84c23ccc1b"
      },
      "outputs": [
        {
          "output_type": "stream",
          "name": "stdout",
          "text": [
            "\n",
            "Total trades in merged_df: 69811\n",
            "Trades without sentiment data (nulls): 11694\n"
          ]
        }
      ],
      "source": [
        "# Checking for NaN and Null values\n",
        "\n",
        "null_sentiments = merged_df['classification'].isnull().sum()\n",
        "total_trades = len(merged_df)\n",
        "\n",
        "print(f\"\\nTotal trades in merged_df: {total_trades}\")\n",
        "print(f\"Trades without sentiment data (nulls): {null_sentiments}\")"
      ]
    },
    {
      "cell_type": "markdown",
      "id": "f6fb1579",
      "metadata": {
        "id": "f6fb1579"
      },
      "source": [
        "- Observation: 26961 trades happened on dates that were not in FG_df.\n",
        "- Action: Drop this 26961 rows of data"
      ]
    },
    {
      "cell_type": "markdown",
      "id": "b7746c5b",
      "metadata": {
        "id": "b7746c5b"
      },
      "source": [
        "Handle the Null Values"
      ]
    },
    {
      "cell_type": "code",
      "execution_count": 28,
      "id": "64a2f3b3",
      "metadata": {
        "colab": {
          "base_uri": "https://localhost:8080/"
        },
        "id": "64a2f3b3",
        "outputId": "b6441a7e-9817-4ec8-918b-c7f925f65522"
      },
      "outputs": [
        {
          "output_type": "stream",
          "name": "stdout",
          "text": [
            "Shape befor dropping nulls: (69811, 20)\n",
            "Shape after dropping nulls: (58117, 20)\n"
          ]
        }
      ],
      "source": [
        "# Before shape\n",
        "print(f\"Shape befor dropping nulls: {merged_df.shape}\")\n",
        "\n",
        "# Drop NaN\n",
        "merged_df.dropna(subset=['classification'], inplace=True)\n",
        "\n",
        "# After Shape\n",
        "print(f\"Shape after dropping nulls: {merged_df.shape}\")\n"
      ]
    },
    {
      "cell_type": "code",
      "execution_count": 29,
      "id": "fc87c47a",
      "metadata": {
        "colab": {
          "base_uri": "https://localhost:8080/"
        },
        "id": "fc87c47a",
        "outputId": "92da6abc-3d07-4fd0-ddf7-d19f8958f3bd"
      },
      "outputs": [
        {
          "output_type": "stream",
          "name": "stdout",
          "text": [
            "Nulls in 'classification' after drop: 0\n"
          ]
        }
      ],
      "source": [
        "# Verifiy no more nulls in the col\n",
        "print(f\"Nulls in 'classification' after drop: {merged_df['classification'].isnull().sum()}\")"
      ]
    },
    {
      "cell_type": "markdown",
      "id": "9185e396",
      "metadata": {
        "id": "9185e396"
      },
      "source": [
        "**EDA**"
      ]
    },
    {
      "cell_type": "code",
      "execution_count": 30,
      "id": "4249e219",
      "metadata": {
        "colab": {
          "base_uri": "https://localhost:8080/"
        },
        "id": "4249e219",
        "outputId": "1241b4f8-90c5-4dbc-ae40-6346d47a187e"
      },
      "outputs": [
        {
          "output_type": "stream",
          "name": "stdout",
          "text": [
            "Original unique sentiment values: ['Greed' 'Fear' 'Extreme Greed' 'Neutral']\n",
            "New unique sentiment values: ['Greed' 'Fear' 'Neutral']\n",
            "sentiment\n",
            "Fear       40859\n",
            "Greed      14051\n",
            "Neutral     3207\n",
            "Name: count, dtype: int64\n"
          ]
        }
      ],
      "source": [
        "# Unique sentiment categories\n",
        "print(f\"Original unique sentiment values: {merged_df['classification'].unique()}\")\n",
        "\n",
        "# Mapping\n",
        "sentiment_map = {\n",
        "    'Extreme Fear': 'Fear',\n",
        "    'Fear': 'Fear',\n",
        "    'Neutral': 'Neutral',\n",
        "    'Greed': 'Greed',\n",
        "    'Extreme Greed': 'Greed'\n",
        "}\n",
        "\n",
        "merged_df['sentiment'] = merged_df['classification'].map(sentiment_map)\n",
        "\n",
        "print(f\"New unique sentiment values: {merged_df['sentiment'].unique()}\")\n",
        "print(merged_df['sentiment'].value_counts())"
      ]
    },
    {
      "cell_type": "markdown",
      "id": "5faf1f19",
      "metadata": {
        "id": "5faf1f19"
      },
      "source": [
        "Visualization: Trades per Sentiment"
      ]
    },
    {
      "cell_type": "code",
      "execution_count": 31,
      "id": "aebeefdf",
      "metadata": {
        "colab": {
          "base_uri": "https://localhost:8080/",
          "height": 677
        },
        "id": "aebeefdf",
        "outputId": "1f6954fc-996e-4743-8455-056a749a9b2a"
      },
      "outputs": [
        {
          "output_type": "stream",
          "name": "stderr",
          "text": [
            "/tmp/ipython-input-3803795635.py:4: FutureWarning: \n",
            "\n",
            "Passing `palette` without assigning `hue` is deprecated and will be removed in v0.14.0. Assign the `x` variable to `hue` and set `legend=False` for the same effect.\n",
            "\n",
            "  ax = sns.countplot(\n"
          ]
        },
        {
          "output_type": "display_data",
          "data": {
            "text/plain": [
              "<Figure size 1000x600 with 1 Axes>"
            ],
            "image/png": "[encoded data removed]"
          },
          "metadata": {}
        }
      ],
      "source": [
        "plt.figure(figsize = (10, 6))\n",
        "sns.set_style(\"whitegrid\")\n",
        "\n",
        "ax = sns.countplot(\n",
        "    data=merged_df,\n",
        "    x='sentiment',\n",
        "    order=['Fear', 'Neutral', 'Greed'],\n",
        "    palette={'Fear': 'red', 'Neutral': 'grey', 'Greed': 'green'} # Color\n",
        ")\n",
        "\n",
        "ax.set_title('Total Number of Trade per Market Sentiment', fontsize=16)\n",
        "ax.set_xlabel('Sentiment', fontsize=12)\n",
        "ax.set_ylabel('Count of Trades', fontsize=12)\n",
        "\n",
        "plt.savefig('/content/outputs/trades_per_sentiment.png')"
      ]
    },
    {
      "cell_type": "markdown",
      "id": "b6365d79",
      "metadata": {
        "id": "b6365d79"
      },
      "source": [
        "Profitability Vs Sentiment"
      ]
    },
    {
      "cell_type": "code",
      "execution_count": 32,
      "id": "e2069df0",
      "metadata": {
        "colab": {
          "base_uri": "https://localhost:8080/"
        },
        "id": "e2069df0",
        "outputId": "b9a59a12-6ea0-43e3-fe1b-ebec300ee35b"
      },
      "outputs": [
        {
          "output_type": "stream",
          "name": "stdout",
          "text": [
            "Profitability per Sentiment:\n",
            "  sentiment     total_pnl  average_pnl\n",
            "0      Fear  4.048144e+06    99.075933\n",
            "1     Greed  1.797066e+06   127.895979\n",
            "2   Neutral  1.821583e+05    56.800214\n"
          ]
        }
      ],
      "source": [
        "sentiment_pnl = merged_df.groupby('sentiment')['Closed PnL'].agg(\n",
        "    total_pnl = 'sum',\n",
        "    average_pnl = 'mean'\n",
        ").reset_index()\n",
        "\n",
        "print(\"Profitability per Sentiment:\")\n",
        "print(sentiment_pnl)"
      ]
    },
    {
      "cell_type": "code",
      "execution_count": 33,
      "id": "a10f14ac",
      "metadata": {
        "colab": {
          "base_uri": "https://localhost:8080/",
          "height": 677
        },
        "id": "a10f14ac",
        "outputId": "fb34deeb-01e3-4343-e68d-5e2985e51acf"
      },
      "outputs": [
        {
          "output_type": "stream",
          "name": "stderr",
          "text": [
            "/tmp/ipython-input-1880288650.py:5: FutureWarning: \n",
            "\n",
            "Passing `palette` without assigning `hue` is deprecated and will be removed in v0.14.0. Assign the `x` variable to `hue` and set `legend=False` for the same effect.\n",
            "\n",
            "  ax = sns.barplot(\n"
          ]
        },
        {
          "output_type": "display_data",
          "data": {
            "text/plain": [
              "<Figure size 1000x600 with 1 Axes>"
            ],
            "image/png": "[encoded data removed]"
          },
          "metadata": {}
        }
      ],
      "source": [
        "# Avg PnL per trade\n",
        "plt.figure(figsize=(10, 6))\n",
        "sns.set_style('whitegrid')\n",
        "\n",
        "ax = sns.barplot(\n",
        "    data=sentiment_pnl,\n",
        "    x='sentiment',\n",
        "    y = 'average_pnl',\n",
        "    order=['Fear', 'Neutral', 'Greed'],\n",
        "    palette={'Fear': 'red', 'Neutral': 'grey', 'Greed': 'green'}\n",
        ")\n",
        "\n",
        "ax.set_title('Average Profit & Loss (PnL) per Trade by Sentiment', fontsize=16)\n",
        "ax.set_xlabel(\"Sentiment\", fontsize=12)\n",
        "ax.set_ylabel('Average PnL (USD)', fontsize=12)\n",
        "ax.axhline(0, color='black', linewidth=0.8, linestyle='--')\n",
        "\n",
        "plt.savefig('/content/outputs/avg_pnl_by_sentiment.png')\n",
        "plt.show()"
      ]
    },
    {
      "cell_type": "markdown",
      "id": "d6cbb4e4",
      "metadata": {
        "id": "d6cbb4e4"
      },
      "source": [
        "Analyze Trading Behavior (Trade Size)"
      ]
    },
    {
      "cell_type": "code",
      "execution_count": 34,
      "id": "e9c15b70",
      "metadata": {
        "colab": {
          "base_uri": "https://localhost:8080/",
          "height": 781
        },
        "id": "e9c15b70",
        "outputId": "a1eeea53-86dc-411d-a9d8-35e29035c50e"
      },
      "outputs": [
        {
          "output_type": "stream",
          "name": "stdout",
          "text": [
            "\n",
            "Average Trade Size per Sentiment:\n",
            "  sentiment  average_trade_size\n",
            "0      Fear         8885.796364\n",
            "1     Greed         7144.286593\n",
            "2   Neutral         5769.113530\n"
          ]
        },
        {
          "output_type": "stream",
          "name": "stderr",
          "text": [
            "/tmp/ipython-input-498131303.py:11: FutureWarning: \n",
            "\n",
            "Passing `palette` without assigning `hue` is deprecated and will be removed in v0.14.0. Assign the `x` variable to `hue` and set `legend=False` for the same effect.\n",
            "\n",
            "  ax = sns.barplot(\n"
          ]
        },
        {
          "output_type": "display_data",
          "data": {
            "text/plain": [
              "<Figure size 1000x600 with 1 Axes>"
            ],
            "image/png": "[encoded data removed]"
          },
          "metadata": {}
        }
      ],
      "source": [
        "sentiment_size = merged_df.groupby('sentiment')['Size USD'].agg(\n",
        "    average_trade_size = 'mean'\n",
        ").reset_index()\n",
        "\n",
        "print(\"\\nAverage Trade Size per Sentiment:\")\n",
        "print(sentiment_size)\n",
        "\n",
        "plt.figure(figsize=(10, 6))\n",
        "sns.set_style(\"whitegrid\")\n",
        "\n",
        "ax = sns.barplot(\n",
        "    data=sentiment_size,\n",
        "    x='sentiment',\n",
        "    y='average_trade_size',\n",
        "    order=['Fear', 'Neutral', 'Greed'],\n",
        "    palette={'Fear': 'red', 'Neutral': 'grey', 'Greed': 'green'}\n",
        ")\n",
        "\n",
        "ax.set_title('Average Trade Size (USD) by Sentiment', fontsize=16)\n",
        "ax.set_xlabel('Sentiment', fontsize=12)\n",
        "ax.set_ylabel('Average Size USD', fontsize=12)\n",
        "\n",
        "# Save the chart\n",
        "plt.savefig('/content/outputs/average_trade_size_by_sentiment.png')\n",
        "plt.show()"
      ]
    },
    {
      "cell_type": "markdown",
      "id": "4e988f99",
      "metadata": {
        "id": "4e988f99"
      },
      "source": [
        "Analyze Trader Segments"
      ]
    },
    {
      "cell_type": "code",
      "execution_count": 35,
      "id": "c96abc08",
      "metadata": {
        "colab": {
          "base_uri": "https://localhost:8080/"
        },
        "id": "c96abc08",
        "outputId": "e68af293-ea56-47fb-83ff-18134a696132"
      },
      "outputs": [
        {
          "output_type": "stream",
          "name": "stdout",
          "text": [
            "trader_segment\n",
            "Middle 80%    43335\n",
            "Top 10%       14410\n",
            "Bottom 10%      372\n",
            "Name: count, dtype: int64\n"
          ]
        }
      ],
      "source": [
        "# 1. Find the total PnL for each trader\n",
        "trader_pnl = merged_df.groupby('Account')['Closed PnL'].sum().sort_values(ascending=False)\n",
        "\n",
        "# 2. Get the list of Top 10% and Bottom 10% traders\n",
        "top_traders_count = int(len(trader_pnl) * 0.10)\n",
        "top_traders = trader_pnl.head(top_traders_count).index\n",
        "bottom_traders = trader_pnl.tail(top_traders_count).index\n",
        "\n",
        "# 3. Create a new column to segment traders\n",
        "def segment_trader(account):\n",
        "    if account in top_traders:\n",
        "        return 'Top 10%'\n",
        "    elif account in bottom_traders:\n",
        "        return 'Bottom 10%'\n",
        "    else:\n",
        "        return 'Middle 80%'\n",
        "\n",
        "merged_df['trader_segment'] = merged_df['Account'].apply(segment_trader)\n",
        "\n",
        "# 4. Check the segmentation\n",
        "print(merged_df['trader_segment'].value_counts())"
      ]
    },
    {
      "cell_type": "markdown",
      "id": "af770582",
      "metadata": {
        "id": "af770582"
      },
      "source": [
        "Analyze Trading"
      ]
    },
    {
      "cell_type": "code",
      "execution_count": 36,
      "id": "cd5471d9",
      "metadata": {
        "colab": {
          "base_uri": "https://localhost:8080/",
          "height": 1000
        },
        "id": "cd5471d9",
        "outputId": "043e5ff6-07a4-42ca-eb0a-bd712825f9a7"
      },
      "outputs": [
        {
          "output_type": "display_data",
          "data": {
            "text/plain": [
              "<Figure size 1200x700 with 1 Axes>"
            ],
            "image/png": "[encoded data removed]"
          },
          "metadata": {}
        },
        {
          "output_type": "stream",
          "name": "stderr",
          "text": [
            "/tmp/ipython-input-4167090414.py:15: FutureWarning: \n",
            "\n",
            "The `ci` parameter is deprecated. Use `errorbar=None` for the same effect.\n",
            "\n",
            "  sns.barplot(\n"
          ]
        },
        {
          "output_type": "display_data",
          "data": {
            "text/plain": [
              "<Figure size 1200x700 with 1 Axes>"
            ],
            "image/png": "[encoded data removed]"
          },
          "metadata": {}
        }
      ],
      "source": [
        "# 1. Plot trade side by sentiment\n",
        "plt.figure(figsize=(12, 7))\n",
        "sns.countplot(\n",
        "    data=merged_df,\n",
        "    x='sentiment',\n",
        "    hue='Side', # Check if 'Buy' or 'Sell' is more common\n",
        "    order=['Fear', 'Neutral', 'Greed']\n",
        ")\n",
        "plt.title('Trade Side (Buy/Sell) by Sentiment')\n",
        "plt.savefig('/content/outputs/side_by_sentiment.png')\n",
        "plt.show()\n",
        "\n",
        "# 2. Plot most profitable side by sentiment\n",
        "plt.figure(figsize=(12, 7))\n",
        "sns.barplot(\n",
        "    data=merged_df,\n",
        "    x='sentiment',\n",
        "    y='Closed PnL',\n",
        "    hue='Side',\n",
        "    estimator=np.mean,\n",
        "    ci=None\n",
        ")\n",
        "plt.title('Average PnL by Sentiment and Trade Side')\n",
        "plt.savefig('/content/outputs/pnl_by_side_and_sentiment.png')\n",
        "plt.show()"
      ]
    },
    {
      "cell_type": "code",
      "execution_count": 37,
      "id": "f03b7fd6",
      "metadata": {
        "colab": {
          "base_uri": "https://localhost:8080/",
          "height": 734
        },
        "id": "f03b7fd6",
        "outputId": "ba44c845-5e5e-46b7-86eb-5c8d20190df2"
      },
      "outputs": [
        {
          "output_type": "stream",
          "name": "stderr",
          "text": [
            "/tmp/ipython-input-3719394572.py:5: FutureWarning: \n",
            "\n",
            "The `ci` parameter is deprecated. Use `errorbar=None` for the same effect.\n",
            "\n",
            "  ax = sns.barplot(\n"
          ]
        },
        {
          "output_type": "display_data",
          "data": {
            "text/plain": [
              "<Figure size 1200x700 with 1 Axes>"
            ],
            "image/png": "[encoded data removed]"
          },
          "metadata": {}
        }
      ],
      "source": [
        "# This chart will show who is winning, when, and how.\n",
        "plt.figure(figsize=(12, 7))\n",
        "sns.set_style(\"whitegrid\")\n",
        "\n",
        "ax = sns.barplot(\n",
        "    data=merged_df,\n",
        "    x='sentiment',\n",
        "    y='Closed PnL',\n",
        "    hue='trader_segment',  # Segment by trader group\n",
        "    order=['Fear', 'Neutral', 'Greed'],\n",
        "    estimator=np.mean,    # Calculate the average PnL\n",
        "    ci=None               # Hide confidence intervals\n",
        ")\n",
        "\n",
        "ax.set_title('Average PnL by Sentiment AND Trader Segment', fontsize=16)\n",
        "ax.set_xlabel('Sentiment', fontsize=12)\n",
        "ax.set_ylabel('Average Closed PnL (USD)', fontsize=12)\n",
        "ax.axhline(0, color='black', linewidth=0.8, linestyle='--') # Add a zero line\n",
        "\n",
        "plt.legend(title='Trader Segment')\n",
        "\n",
        "# Save the final chart\n",
        "plt.savefig('/content/outputs/pnl_by_sentiment_and_segment.png')\n",
        "plt.show()"
      ]
    },
    {
      "cell_type": "markdown",
      "id": "7f7e1688",
      "metadata": {
        "id": "7f7e1688"
      },
      "source": []
    }
  ],
  "metadata": {
    "kernelspec": {
      "display_name": "Python 3",
      "language": "python",
      "name": "python3"
    },
    "language_info": {
      "codemirror_mode": {
        "name": "ipython",
        "version": 3
      },
      "file_extension": ".py",
      "mimetype": "text/x-python",
      "name": "python",
      "nbconvert_exporter": "python",
      "pygments_lexer": "ipython3",
      "version": "3.12.9"
    },
    "colab": {
      "provenance": [],
      "include_colab_link": true
    }
  },
  "nbformat": 4,
  "nbformat_minor": 5
}